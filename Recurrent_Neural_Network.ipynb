{
  "nbformat": 4,
  "nbformat_minor": 0,
  "metadata": {
    "colab": {
      "name": "Recurrent Neural Network.ipynb",
      "provenance": [],
      "collapsed_sections": [],
      "include_colab_link": true
    },
    "kernelspec": {
      "name": "python3",
      "display_name": "Python 3"
    },
    "accelerator": "TPU"
  },
  "cells": [
    {
      "cell_type": "markdown",
      "metadata": {
        "id": "view-in-github",
        "colab_type": "text"
      },
      "source": [
        "<a href=\"https://colab.research.google.com/github/rhmdnrhuda/RNN-Exploration/blob/master/Recurrent_Neural_Network.ipynb\" target=\"_parent\"><img src=\"https://colab.research.google.com/assets/colab-badge.svg\" alt=\"Open In Colab\"/></a>"
      ]
    },
    {
      "cell_type": "markdown",
      "metadata": {
        "id": "A9cZHwB02SLw",
        "colab_type": "text"
      },
      "source": [
        "#Eksplorasi RNN menggunakan Keras"
      ]
    },
    {
      "cell_type": "markdown",
      "metadata": {
        "id": "3oWajyC92Ykc",
        "colab_type": "text"
      },
      "source": [
        "Import Libraries"
      ]
    },
    {
      "cell_type": "code",
      "metadata": {
        "id": "VK87bpg6cEOn",
        "colab_type": "code",
        "colab": {}
      },
      "source": [
        "import numpy as np\n",
        "import matplotlib.pyplot as plt\n",
        "import pandas as pd"
      ],
      "execution_count": 0,
      "outputs": []
    },
    {
      "cell_type": "markdown",
      "metadata": {
        "id": "l3AgsnPb2cB-",
        "colab_type": "text"
      },
      "source": [
        "Clone github untuk mengambil data set baik itu training maupun testing"
      ]
    },
    {
      "cell_type": "code",
      "metadata": {
        "id": "wHjsAmp61s2Y",
        "colab_type": "code",
        "outputId": "627f81d6-1c30-4654-e78d-28c30ea43fea",
        "colab": {
          "base_uri": "https://localhost:8080/",
          "height": 123
        }
      },
      "source": [
        "!git clone https://github.com/rhmdnrhuda/RNN-Exploration"
      ],
      "execution_count": 0,
      "outputs": [
        {
          "output_type": "stream",
          "text": [
            "Cloning into 'RNN-Exploration'...\n",
            "remote: Enumerating objects: 10, done.\u001b[K\n",
            "remote: Counting objects: 100% (10/10), done.\u001b[K\n",
            "remote: Compressing objects: 100% (10/10), done.\u001b[K\n",
            "remote: Total 10 (delta 3), reused 0 (delta 0), pack-reused 0\u001b[K\n",
            "Unpacking objects: 100% (10/10), done.\n"
          ],
          "name": "stdout"
        }
      ]
    },
    {
      "cell_type": "markdown",
      "metadata": {
        "id": "Yace8Tpu2iA1",
        "colab_type": "text"
      },
      "source": [
        "Import data traing"
      ]
    },
    {
      "cell_type": "code",
      "metadata": {
        "id": "fXJHO7Nzt-Yz",
        "colab_type": "code",
        "colab": {}
      },
      "source": [
        "dataset_train = pd.read_csv('RNN-Exploration/Google_Stock_Price_Train.csv')\n",
        "training_set = dataset_train.iloc[:, 1:2].values"
      ],
      "execution_count": 0,
      "outputs": []
    },
    {
      "cell_type": "markdown",
      "metadata": {
        "id": "3ivHjK2V2uYE",
        "colab_type": "text"
      },
      "source": [
        "Feature Scalling"
      ]
    },
    {
      "cell_type": "code",
      "metadata": {
        "id": "JtBgr9vwuLgW",
        "colab_type": "code",
        "colab": {}
      },
      "source": [
        "from sklearn.preprocessing import MinMaxScaler\n",
        "sc = MinMaxScaler(feature_range = (0, 1))\n",
        "training_set_scaled = sc.fit_transform(training_set)"
      ],
      "execution_count": 0,
      "outputs": []
    },
    {
      "cell_type": "markdown",
      "metadata": {
        "id": "DhaQKFVK2zff",
        "colab_type": "text"
      },
      "source": [
        "Membuat struktur data dengan 60 timestamp dan 1 output"
      ]
    },
    {
      "cell_type": "code",
      "metadata": {
        "id": "WDxYzT1AuQUS",
        "colab_type": "code",
        "colab": {}
      },
      "source": [
        "X_train = []\n",
        "y_train = []\n",
        "for i in range(60, 1258):\n",
        "    X_train.append(training_set_scaled[i-60:i, 0])\n",
        "    y_train.append(training_set_scaled[i, 0])\n",
        "X_train, y_train = np.array(X_train), np.array(y_train)"
      ],
      "execution_count": 0,
      "outputs": []
    },
    {
      "cell_type": "markdown",
      "metadata": {
        "id": "jZgYpqg727B_",
        "colab_type": "text"
      },
      "source": [
        "Reshaping"
      ]
    },
    {
      "cell_type": "code",
      "metadata": {
        "id": "d1DTAcuDuUdR",
        "colab_type": "code",
        "colab": {}
      },
      "source": [
        "X_train = np.reshape(X_train, (X_train.shape[0], X_train.shape[1], 1))"
      ],
      "execution_count": 0,
      "outputs": []
    },
    {
      "cell_type": "markdown",
      "metadata": {
        "id": "MSoK8TyYmDP6",
        "colab_type": "text"
      },
      "source": [
        "##Membuat RNN"
      ]
    },
    {
      "cell_type": "markdown",
      "metadata": {
        "id": "FZ6N6y_d2-NU",
        "colab_type": "text"
      },
      "source": [
        "Import library Keras"
      ]
    },
    {
      "cell_type": "code",
      "metadata": {
        "id": "mKIvBiChzxR-",
        "colab_type": "code",
        "outputId": "7ab0b234-6bab-4c50-f394-0c588228114a",
        "colab": {
          "base_uri": "https://localhost:8080/",
          "height": 34
        }
      },
      "source": [
        "from keras.models import Sequential\n",
        "from keras.layers import Dense\n",
        "from keras.layers import LSTM\n",
        "from keras.layers import Dropout"
      ],
      "execution_count": 0,
      "outputs": [
        {
          "output_type": "stream",
          "text": [
            "Using TensorFlow backend.\n"
          ],
          "name": "stderr"
        }
      ]
    },
    {
      "cell_type": "markdown",
      "metadata": {
        "id": "aKSIBJuT3BNN",
        "colab_type": "text"
      },
      "source": [
        "Inisiasi RNN"
      ]
    },
    {
      "cell_type": "code",
      "metadata": {
        "id": "x2hEmpYxmLWU",
        "colab_type": "code",
        "outputId": "ab347452-da0a-4683-bf65-6ce66b63c4c3",
        "colab": {
          "base_uri": "https://localhost:8080/",
          "height": 72
        }
      },
      "source": [
        "regressor = Sequential()"
      ],
      "execution_count": 0,
      "outputs": [
        {
          "output_type": "stream",
          "text": [
            "WARNING:tensorflow:From /usr/local/lib/python3.6/dist-packages/keras/backend/tensorflow_backend.py:66: The name tf.get_default_graph is deprecated. Please use tf.compat.v1.get_default_graph instead.\n",
            "\n"
          ],
          "name": "stdout"
        }
      ]
    },
    {
      "cell_type": "markdown",
      "metadata": {
        "id": "RZFdxMyG3ExV",
        "colab_type": "text"
      },
      "source": [
        "Menambahkan layer pertama LSTM dan beberapa Dropout Regularisation"
      ]
    },
    {
      "cell_type": "code",
      "metadata": {
        "id": "Uhm_jYqjmWk-",
        "colab_type": "code",
        "outputId": "1477faf8-0e42-4d0f-80d0-bb9cd0785667",
        "colab": {
          "base_uri": "https://localhost:8080/",
          "height": 196
        }
      },
      "source": [
        "regressor.add(LSTM(units = 50, return_sequences = True, input_shape = (X_train.shape[1], 1)))\n",
        "regressor.add(Dropout(0.2))"
      ],
      "execution_count": 0,
      "outputs": [
        {
          "output_type": "stream",
          "text": [
            "WARNING:tensorflow:From /usr/local/lib/python3.6/dist-packages/keras/backend/tensorflow_backend.py:541: The name tf.placeholder is deprecated. Please use tf.compat.v1.placeholder instead.\n",
            "\n",
            "WARNING:tensorflow:From /usr/local/lib/python3.6/dist-packages/keras/backend/tensorflow_backend.py:4432: The name tf.random_uniform is deprecated. Please use tf.random.uniform instead.\n",
            "\n",
            "WARNING:tensorflow:From /usr/local/lib/python3.6/dist-packages/keras/backend/tensorflow_backend.py:148: The name tf.placeholder_with_default is deprecated. Please use tf.compat.v1.placeholder_with_default instead.\n",
            "\n",
            "WARNING:tensorflow:From /usr/local/lib/python3.6/dist-packages/keras/backend/tensorflow_backend.py:3733: calling dropout (from tensorflow.python.ops.nn_ops) with keep_prob is deprecated and will be removed in a future version.\n",
            "Instructions for updating:\n",
            "Please use `rate` instead of `keep_prob`. Rate should be set to `rate = 1 - keep_prob`.\n"
          ],
          "name": "stdout"
        }
      ]
    },
    {
      "cell_type": "markdown",
      "metadata": {
        "id": "fW3ov0N84OvG",
        "colab_type": "text"
      },
      "source": [
        "Menambahkan Layer kedua"
      ]
    },
    {
      "cell_type": "code",
      "metadata": {
        "id": "v2USb5pymwPd",
        "colab_type": "code",
        "colab": {}
      },
      "source": [
        "regressor.add(LSTM(units = 50, return_sequences = True))\n",
        "regressor.add(Dropout(0.2))"
      ],
      "execution_count": 0,
      "outputs": []
    },
    {
      "cell_type": "markdown",
      "metadata": {
        "id": "AoKDV7SP4Rro",
        "colab_type": "text"
      },
      "source": [
        "Menambahkan Layer ketiga"
      ]
    },
    {
      "cell_type": "code",
      "metadata": {
        "id": "o0wAQUsB4EXK",
        "colab_type": "code",
        "colab": {}
      },
      "source": [
        "regressor.add(LSTM(units = 50, return_sequences = True))\n",
        "regressor.add(Dropout(0.2))"
      ],
      "execution_count": 0,
      "outputs": []
    },
    {
      "cell_type": "markdown",
      "metadata": {
        "id": "07ih9cDv4VKA",
        "colab_type": "text"
      },
      "source": [
        "Menambahkan Layer keempat"
      ]
    },
    {
      "cell_type": "code",
      "metadata": {
        "id": "cXIbWjAdnDhk",
        "colab_type": "code",
        "colab": {}
      },
      "source": [
        "regressor.add(LSTM(units = 50))\n",
        "regressor.add(Dropout(0.2))"
      ],
      "execution_count": 0,
      "outputs": []
    },
    {
      "cell_type": "markdown",
      "metadata": {
        "id": "YLQRelBL3agZ",
        "colab_type": "text"
      },
      "source": [
        "Menambahkan Output Layer"
      ]
    },
    {
      "cell_type": "code",
      "metadata": {
        "id": "t5JhhF6UnF94",
        "colab_type": "code",
        "colab": {}
      },
      "source": [
        "regressor.add(Dense(units = 1))"
      ],
      "execution_count": 0,
      "outputs": []
    },
    {
      "cell_type": "markdown",
      "metadata": {
        "id": "j0TbyiGQ1jhX",
        "colab_type": "text"
      },
      "source": [
        "Model 1:  optimizer = adam  dan batch_size = 32"
      ]
    },
    {
      "cell_type": "markdown",
      "metadata": {
        "id": "BebY4pk63fSc",
        "colab_type": "text"
      },
      "source": [
        "Compiling RNN"
      ]
    },
    {
      "cell_type": "code",
      "metadata": {
        "id": "dQnPETYy1qF5",
        "colab_type": "code",
        "colab": {}
      },
      "source": [
        "regressor.compile(optimizer = 'adam', loss = 'mean_squared_error')"
      ],
      "execution_count": 0,
      "outputs": []
    },
    {
      "cell_type": "markdown",
      "metadata": {
        "id": "EJh4fxFK3kqF",
        "colab_type": "text"
      },
      "source": [
        "Fitting RNN ke Data Training"
      ]
    },
    {
      "cell_type": "code",
      "metadata": {
        "id": "Sh0Bwc2L1uDz",
        "colab_type": "code",
        "outputId": "815d9538-2e69-4534-a72f-d4ac3b965120",
        "colab": {
          "base_uri": "https://localhost:8080/",
          "height": 1000
        }
      },
      "source": [
        "regressor.fit(X_train, y_train, epochs = 100, batch_size = 32)"
      ],
      "execution_count": 0,
      "outputs": [
        {
          "output_type": "stream",
          "text": [
            "WARNING:tensorflow:From /usr/local/lib/python3.6/dist-packages/tensorflow_core/python/ops/math_grad.py:1424: where (from tensorflow.python.ops.array_ops) is deprecated and will be removed in a future version.\n",
            "Instructions for updating:\n",
            "Use tf.where in 2.0, which has the same broadcast rule as np.where\n",
            "WARNING:tensorflow:From /usr/local/lib/python3.6/dist-packages/keras/backend/tensorflow_backend.py:1033: The name tf.assign_add is deprecated. Please use tf.compat.v1.assign_add instead.\n",
            "\n",
            "WARNING:tensorflow:From /usr/local/lib/python3.6/dist-packages/keras/backend/tensorflow_backend.py:1020: The name tf.assign is deprecated. Please use tf.compat.v1.assign instead.\n",
            "\n",
            "WARNING:tensorflow:From /usr/local/lib/python3.6/dist-packages/keras/backend/tensorflow_backend.py:3005: The name tf.Session is deprecated. Please use tf.compat.v1.Session instead.\n",
            "\n",
            "Epoch 1/100\n",
            "WARNING:tensorflow:From /usr/local/lib/python3.6/dist-packages/keras/backend/tensorflow_backend.py:190: The name tf.get_default_session is deprecated. Please use tf.compat.v1.get_default_session instead.\n",
            "\n",
            "WARNING:tensorflow:From /usr/local/lib/python3.6/dist-packages/keras/backend/tensorflow_backend.py:197: The name tf.ConfigProto is deprecated. Please use tf.compat.v1.ConfigProto instead.\n",
            "\n",
            "WARNING:tensorflow:From /usr/local/lib/python3.6/dist-packages/keras/backend/tensorflow_backend.py:207: The name tf.global_variables is deprecated. Please use tf.compat.v1.global_variables instead.\n",
            "\n",
            "WARNING:tensorflow:From /usr/local/lib/python3.6/dist-packages/keras/backend/tensorflow_backend.py:216: The name tf.is_variable_initialized is deprecated. Please use tf.compat.v1.is_variable_initialized instead.\n",
            "\n",
            "WARNING:tensorflow:From /usr/local/lib/python3.6/dist-packages/keras/backend/tensorflow_backend.py:223: The name tf.variables_initializer is deprecated. Please use tf.compat.v1.variables_initializer instead.\n",
            "\n",
            "1198/1198 [==============================] - 12s 10ms/step - loss: 0.0559\n",
            "Epoch 2/100\n",
            "1198/1198 [==============================] - 8s 7ms/step - loss: 0.0065\n",
            "Epoch 3/100\n",
            "1198/1198 [==============================] - 8s 7ms/step - loss: 0.0056\n",
            "Epoch 4/100\n",
            "1198/1198 [==============================] - 8s 7ms/step - loss: 0.0047\n",
            "Epoch 5/100\n",
            "1198/1198 [==============================] - 8s 7ms/step - loss: 0.0047\n",
            "Epoch 6/100\n",
            "1198/1198 [==============================] - 8s 7ms/step - loss: 0.0048\n",
            "Epoch 7/100\n",
            "1198/1198 [==============================] - 8s 6ms/step - loss: 0.0044\n",
            "Epoch 8/100\n",
            "1198/1198 [==============================] - 8s 7ms/step - loss: 0.0041\n",
            "Epoch 9/100\n",
            "1198/1198 [==============================] - 8s 6ms/step - loss: 0.0054\n",
            "Epoch 10/100\n",
            "1198/1198 [==============================] - 8s 6ms/step - loss: 0.0043\n",
            "Epoch 11/100\n",
            "1198/1198 [==============================] - 8s 6ms/step - loss: 0.0039\n",
            "Epoch 12/100\n",
            "1198/1198 [==============================] - 8s 6ms/step - loss: 0.0039\n",
            "Epoch 13/100\n",
            "1198/1198 [==============================] - 8s 7ms/step - loss: 0.0038\n",
            "Epoch 14/100\n",
            "1198/1198 [==============================] - 8s 7ms/step - loss: 0.0037\n",
            "Epoch 15/100\n",
            "1198/1198 [==============================] - 8s 6ms/step - loss: 0.0041\n",
            "Epoch 16/100\n",
            "1198/1198 [==============================] - 8s 6ms/step - loss: 0.0037\n",
            "Epoch 17/100\n",
            "1198/1198 [==============================] - 8s 6ms/step - loss: 0.0040\n",
            "Epoch 18/100\n",
            "1198/1198 [==============================] - 8s 7ms/step - loss: 0.0037\n",
            "Epoch 19/100\n",
            "1198/1198 [==============================] - 8s 6ms/step - loss: 0.0037\n",
            "Epoch 20/100\n",
            "1198/1198 [==============================] - 8s 6ms/step - loss: 0.0037\n",
            "Epoch 21/100\n",
            "1198/1198 [==============================] - 8s 7ms/step - loss: 0.0032\n",
            "Epoch 22/100\n",
            "1198/1198 [==============================] - 8s 7ms/step - loss: 0.0031\n",
            "Epoch 23/100\n",
            "1198/1198 [==============================] - 8s 6ms/step - loss: 0.0033\n",
            "Epoch 24/100\n",
            "1198/1198 [==============================] - 8s 7ms/step - loss: 0.0037\n",
            "Epoch 25/100\n",
            "1198/1198 [==============================] - 8s 6ms/step - loss: 0.0033\n",
            "Epoch 26/100\n",
            "1198/1198 [==============================] - 8s 6ms/step - loss: 0.0029\n",
            "Epoch 27/100\n",
            "1198/1198 [==============================] - 8s 7ms/step - loss: 0.0030\n",
            "Epoch 28/100\n",
            "1198/1198 [==============================] - 8s 7ms/step - loss: 0.0031\n",
            "Epoch 29/100\n",
            "1198/1198 [==============================] - 8s 7ms/step - loss: 0.0028\n",
            "Epoch 30/100\n",
            "1198/1198 [==============================] - 8s 7ms/step - loss: 0.0029\n",
            "Epoch 31/100\n",
            "1198/1198 [==============================] - 8s 7ms/step - loss: 0.0029\n",
            "Epoch 32/100\n",
            "1198/1198 [==============================] - 8s 7ms/step - loss: 0.0032\n",
            "Epoch 33/100\n",
            "1198/1198 [==============================] - 8s 6ms/step - loss: 0.0030\n",
            "Epoch 34/100\n",
            "1198/1198 [==============================] - 8s 7ms/step - loss: 0.0025\n",
            "Epoch 35/100\n",
            "1198/1198 [==============================] - 8s 7ms/step - loss: 0.0032\n",
            "Epoch 36/100\n",
            "1198/1198 [==============================] - 8s 7ms/step - loss: 0.0029\n",
            "Epoch 37/100\n",
            "1198/1198 [==============================] - 8s 7ms/step - loss: 0.0028\n",
            "Epoch 38/100\n",
            "1198/1198 [==============================] - 8s 7ms/step - loss: 0.0028\n",
            "Epoch 39/100\n",
            "1198/1198 [==============================] - 8s 6ms/step - loss: 0.0024\n",
            "Epoch 40/100\n",
            "1198/1198 [==============================] - 8s 6ms/step - loss: 0.0028\n",
            "Epoch 41/100\n",
            "1198/1198 [==============================] - 8s 6ms/step - loss: 0.0026\n",
            "Epoch 42/100\n",
            "1198/1198 [==============================] - 8s 6ms/step - loss: 0.0031\n",
            "Epoch 43/100\n",
            "1198/1198 [==============================] - 8s 6ms/step - loss: 0.0027\n",
            "Epoch 44/100\n",
            "1198/1198 [==============================] - 8s 7ms/step - loss: 0.0030\n",
            "Epoch 45/100\n",
            "1198/1198 [==============================] - 8s 6ms/step - loss: 0.0025\n",
            "Epoch 46/100\n",
            "1198/1198 [==============================] - 8s 6ms/step - loss: 0.0025\n",
            "Epoch 47/100\n",
            "1198/1198 [==============================] - 8s 6ms/step - loss: 0.0025\n",
            "Epoch 48/100\n",
            "1198/1198 [==============================] - 8s 7ms/step - loss: 0.0025\n",
            "Epoch 49/100\n",
            "1198/1198 [==============================] - 8s 7ms/step - loss: 0.0024\n",
            "Epoch 50/100\n",
            "1198/1198 [==============================] - 8s 7ms/step - loss: 0.0024\n",
            "Epoch 51/100\n",
            "1198/1198 [==============================] - 8s 7ms/step - loss: 0.0023\n",
            "Epoch 52/100\n",
            "1198/1198 [==============================] - 8s 7ms/step - loss: 0.0021\n",
            "Epoch 53/100\n",
            "1198/1198 [==============================] - 8s 7ms/step - loss: 0.0023\n",
            "Epoch 54/100\n",
            "1198/1198 [==============================] - 8s 7ms/step - loss: 0.0021\n",
            "Epoch 55/100\n",
            "1198/1198 [==============================] - 8s 7ms/step - loss: 0.0021\n",
            "Epoch 56/100\n",
            "1198/1198 [==============================] - 8s 7ms/step - loss: 0.0020\n",
            "Epoch 57/100\n",
            "1198/1198 [==============================] - 8s 7ms/step - loss: 0.0022\n",
            "Epoch 58/100\n",
            "1198/1198 [==============================] - 8s 7ms/step - loss: 0.0021\n",
            "Epoch 59/100\n",
            "1198/1198 [==============================] - 8s 7ms/step - loss: 0.0021\n",
            "Epoch 60/100\n",
            "1198/1198 [==============================] - 8s 7ms/step - loss: 0.0020\n",
            "Epoch 61/100\n",
            "1198/1198 [==============================] - 8s 7ms/step - loss: 0.0021\n",
            "Epoch 62/100\n",
            "1198/1198 [==============================] - 8s 6ms/step - loss: 0.0020\n",
            "Epoch 63/100\n",
            "1198/1198 [==============================] - 8s 7ms/step - loss: 0.0021\n",
            "Epoch 64/100\n",
            "1198/1198 [==============================] - 8s 7ms/step - loss: 0.0018\n",
            "Epoch 65/100\n",
            "1198/1198 [==============================] - 8s 7ms/step - loss: 0.0018\n",
            "Epoch 66/100\n",
            "1198/1198 [==============================] - 8s 7ms/step - loss: 0.0020\n",
            "Epoch 67/100\n",
            "1198/1198 [==============================] - 8s 7ms/step - loss: 0.0022\n",
            "Epoch 68/100\n",
            "1198/1198 [==============================] - 8s 7ms/step - loss: 0.0018\n",
            "Epoch 69/100\n",
            "1198/1198 [==============================] - 8s 7ms/step - loss: 0.0019\n",
            "Epoch 70/100\n",
            "1198/1198 [==============================] - 8s 7ms/step - loss: 0.0019\n",
            "Epoch 71/100\n",
            "1198/1198 [==============================] - 8s 7ms/step - loss: 0.0017\n",
            "Epoch 72/100\n",
            "1198/1198 [==============================] - 8s 7ms/step - loss: 0.0017\n",
            "Epoch 73/100\n",
            "1198/1198 [==============================] - 8s 7ms/step - loss: 0.0016\n",
            "Epoch 74/100\n",
            "1198/1198 [==============================] - 8s 6ms/step - loss: 0.0018\n",
            "Epoch 75/100\n",
            "1198/1198 [==============================] - 8s 7ms/step - loss: 0.0016\n",
            "Epoch 76/100\n",
            "1198/1198 [==============================] - 8s 7ms/step - loss: 0.0020\n",
            "Epoch 77/100\n",
            "1198/1198 [==============================] - 8s 6ms/step - loss: 0.0018\n",
            "Epoch 78/100\n",
            "1198/1198 [==============================] - 8s 7ms/step - loss: 0.0016\n",
            "Epoch 79/100\n",
            "1198/1198 [==============================] - 8s 7ms/step - loss: 0.0017\n",
            "Epoch 80/100\n",
            "1198/1198 [==============================] - 8s 7ms/step - loss: 0.0018\n",
            "Epoch 81/100\n",
            "1198/1198 [==============================] - 8s 7ms/step - loss: 0.0018\n",
            "Epoch 82/100\n",
            "1198/1198 [==============================] - 8s 7ms/step - loss: 0.0019\n",
            "Epoch 83/100\n",
            "1198/1198 [==============================] - 8s 6ms/step - loss: 0.0018\n",
            "Epoch 84/100\n",
            "1198/1198 [==============================] - 8s 7ms/step - loss: 0.0017\n",
            "Epoch 85/100\n",
            "1198/1198 [==============================] - 8s 6ms/step - loss: 0.0017\n",
            "Epoch 86/100\n",
            "1198/1198 [==============================] - 8s 7ms/step - loss: 0.0016\n",
            "Epoch 87/100\n",
            "1198/1198 [==============================] - 8s 6ms/step - loss: 0.0015\n",
            "Epoch 88/100\n",
            "1198/1198 [==============================] - 8s 6ms/step - loss: 0.0015\n",
            "Epoch 89/100\n",
            "1198/1198 [==============================] - 8s 6ms/step - loss: 0.0015\n",
            "Epoch 90/100\n",
            "1198/1198 [==============================] - 8s 6ms/step - loss: 0.0015\n",
            "Epoch 91/100\n",
            "1198/1198 [==============================] - 8s 6ms/step - loss: 0.0017\n",
            "Epoch 92/100\n",
            "1198/1198 [==============================] - 8s 7ms/step - loss: 0.0015\n",
            "Epoch 93/100\n",
            "1198/1198 [==============================] - 8s 6ms/step - loss: 0.0014\n",
            "Epoch 94/100\n",
            "1198/1198 [==============================] - 8s 7ms/step - loss: 0.0014\n",
            "Epoch 95/100\n",
            "1198/1198 [==============================] - 8s 6ms/step - loss: 0.0014\n",
            "Epoch 96/100\n",
            "1198/1198 [==============================] - 8s 6ms/step - loss: 0.0013\n",
            "Epoch 97/100\n",
            "1198/1198 [==============================] - 8s 6ms/step - loss: 0.0016\n",
            "Epoch 98/100\n",
            "1198/1198 [==============================] - 8s 6ms/step - loss: 0.0015\n",
            "Epoch 99/100\n",
            "1198/1198 [==============================] - 8s 6ms/step - loss: 0.0015\n",
            "Epoch 100/100\n",
            "1198/1198 [==============================] - 8s 7ms/step - loss: 0.0014\n"
          ],
          "name": "stdout"
        },
        {
          "output_type": "execute_result",
          "data": {
            "text/plain": [
              "<keras.callbacks.History at 0x7fed799cea20>"
            ]
          },
          "metadata": {
            "tags": []
          },
          "execution_count": 34
        }
      ]
    },
    {
      "cell_type": "markdown",
      "metadata": {
        "id": "0hnX3Qp-7tdz",
        "colab_type": "text"
      },
      "source": [
        "Mengambil data testing"
      ]
    },
    {
      "cell_type": "code",
      "metadata": {
        "id": "DPV4Y49hnOPM",
        "colab_type": "code",
        "colab": {}
      },
      "source": [
        "dataset_test = pd.read_csv('RNN-Exploration/Google_Stock_Price_Test.csv')\n",
        "real_stock_price = dataset_test.iloc[:, 1:2].values"
      ],
      "execution_count": 0,
      "outputs": []
    },
    {
      "cell_type": "markdown",
      "metadata": {
        "id": "UM2KY_mR7zPQ",
        "colab_type": "text"
      },
      "source": [
        "Membuat prediksi stock price pada 2017"
      ]
    },
    {
      "cell_type": "code",
      "metadata": {
        "id": "9b1SKRZ9qPTE",
        "colab_type": "code",
        "colab": {}
      },
      "source": [
        "dataset_total = pd.concat((dataset_train['Open'], dataset_test['Open']), axis = 0)\n",
        "inputs = dataset_total[len(dataset_total) - len(dataset_test) - 60:].values\n",
        "inputs = inputs.reshape(-1,1)\n",
        "inputs = sc.transform(inputs)\n",
        "X_test = []\n",
        "for i in range(60, 80):\n",
        "    X_test.append(inputs[i-60:i, 0])\n",
        "X_test = np.array(X_test)\n",
        "X_test = np.reshape(X_test, (X_test.shape[0], X_test.shape[1], 1))\n",
        "predicted_stock_price = regressor.predict(X_test)\n",
        "predicted_stock_price = sc.inverse_transform(predicted_stock_price)"
      ],
      "execution_count": 0,
      "outputs": []
    },
    {
      "cell_type": "markdown",
      "metadata": {
        "id": "qp0_U8uz77HY",
        "colab_type": "text"
      },
      "source": [
        "Menampilkan hasil"
      ]
    },
    {
      "cell_type": "code",
      "metadata": {
        "id": "RP0UMYqTqSE6",
        "colab_type": "code",
        "outputId": "e54ab185-2706-4170-fbd1-1b19ee5df795",
        "colab": {
          "base_uri": "https://localhost:8080/",
          "height": 294
        }
      },
      "source": [
        "plt.plot(real_stock_price, color = 'red', label = 'Real Google Stock Price')\n",
        "plt.plot(predicted_stock_price, color = 'blue', label = 'Predicted Google Stock Price')\n",
        "plt.title('Google Stock Price Prediction')\n",
        "plt.xlabel('Time')\n",
        "plt.ylabel('Google Stock Price')\n",
        "plt.legend()\n",
        "plt.show()"
      ],
      "execution_count": 0,
      "outputs": [
        {
          "output_type": "display_data",
          "data": {
            "image/png": "[encoded data removed]",
            "text/plain": [
              "<Figure size 432x288 with 1 Axes>"
            ]
          },
          "metadata": {
            "tags": []
          }
        }
      ]
    },
    {
      "cell_type": "markdown",
      "metadata": {
        "id": "sfjRKq9p11ur",
        "colab_type": "text"
      },
      "source": [
        "Model 2: Optimizer = sgd dan batch_size = 32"
      ]
    },
    {
      "cell_type": "code",
      "metadata": {
        "id": "asSwiyaz19C6",
        "colab_type": "code",
        "outputId": "c8f4cd3d-5574-48ac-8994-d74ebf61561e",
        "colab": {
          "base_uri": "https://localhost:8080/",
          "height": 72
        }
      },
      "source": [
        "regressor.compile(optimizer = 'sgd', loss = 'mean_squared_error')"
      ],
      "execution_count": 0,
      "outputs": [
        {
          "output_type": "stream",
          "text": [
            "WARNING:tensorflow:From /usr/local/lib/python3.6/dist-packages/keras/optimizers.py:793: The name tf.train.Optimizer is deprecated. Please use tf.compat.v1.train.Optimizer instead.\n",
            "\n"
          ],
          "name": "stdout"
        }
      ]
    },
    {
      "cell_type": "code",
      "metadata": {
        "id": "FkyS-jwo2BWh",
        "colab_type": "code",
        "outputId": "ce431e2c-4b99-47f7-a358-26450b3f923e",
        "colab": {
          "base_uri": "https://localhost:8080/",
          "height": 1000
        }
      },
      "source": [
        "regressor.fit(X_train, y_train, epochs = 100, batch_size = 16)"
      ],
      "execution_count": 0,
      "outputs": [
        {
          "output_type": "stream",
          "text": [
            "WARNING:tensorflow:From /usr/local/lib/python3.6/dist-packages/tensorflow_core/python/ops/math_grad.py:1424: where (from tensorflow.python.ops.array_ops) is deprecated and will be removed in a future version.\n",
            "Instructions for updating:\n",
            "Use tf.where in 2.0, which has the same broadcast rule as np.where\n",
            "WARNING:tensorflow:From /usr/local/lib/python3.6/dist-packages/keras/backend/tensorflow_backend.py:1033: The name tf.assign_add is deprecated. Please use tf.compat.v1.assign_add instead.\n",
            "\n",
            "WARNING:tensorflow:From /usr/local/lib/python3.6/dist-packages/keras/backend/tensorflow_backend.py:1020: The name tf.assign is deprecated. Please use tf.compat.v1.assign instead.\n",
            "\n",
            "WARNING:tensorflow:From /usr/local/lib/python3.6/dist-packages/keras/backend/tensorflow_backend.py:3005: The name tf.Session is deprecated. Please use tf.compat.v1.Session instead.\n",
            "\n",
            "Epoch 1/100\n",
            "WARNING:tensorflow:From /usr/local/lib/python3.6/dist-packages/keras/backend/tensorflow_backend.py:190: The name tf.get_default_session is deprecated. Please use tf.compat.v1.get_default_session instead.\n",
            "\n",
            "WARNING:tensorflow:From /usr/local/lib/python3.6/dist-packages/keras/backend/tensorflow_backend.py:197: The name tf.ConfigProto is deprecated. Please use tf.compat.v1.ConfigProto instead.\n",
            "\n",
            "WARNING:tensorflow:From /usr/local/lib/python3.6/dist-packages/keras/backend/tensorflow_backend.py:207: The name tf.global_variables is deprecated. Please use tf.compat.v1.global_variables instead.\n",
            "\n",
            "WARNING:tensorflow:From /usr/local/lib/python3.6/dist-packages/keras/backend/tensorflow_backend.py:216: The name tf.is_variable_initialized is deprecated. Please use tf.compat.v1.is_variable_initialized instead.\n",
            "\n",
            "WARNING:tensorflow:From /usr/local/lib/python3.6/dist-packages/keras/backend/tensorflow_backend.py:223: The name tf.variables_initializer is deprecated. Please use tf.compat.v1.variables_initializer instead.\n",
            "\n",
            "1198/1198 [==============================] - 15s 12ms/step - loss: 0.0888\n",
            "Epoch 2/100\n",
            "1198/1198 [==============================] - 12s 10ms/step - loss: 0.0589\n",
            "Epoch 3/100\n",
            "1198/1198 [==============================] - 12s 10ms/step - loss: 0.0488\n",
            "Epoch 4/100\n",
            "1198/1198 [==============================] - 12s 10ms/step - loss: 0.0329\n",
            "Epoch 5/100\n",
            "1198/1198 [==============================] - 12s 10ms/step - loss: 0.0167\n",
            "Epoch 6/100\n",
            "1198/1198 [==============================] - 12s 10ms/step - loss: 0.0072\n",
            "Epoch 7/100\n",
            "1198/1198 [==============================] - 12s 10ms/step - loss: 0.0050\n",
            "Epoch 8/100\n",
            "1198/1198 [==============================] - 12s 10ms/step - loss: 0.0047\n",
            "Epoch 9/100\n",
            "1198/1198 [==============================] - 12s 10ms/step - loss: 0.0051\n",
            "Epoch 10/100\n",
            "1198/1198 [==============================] - 12s 10ms/step - loss: 0.0050\n",
            "Epoch 11/100\n",
            "1198/1198 [==============================] - 13s 11ms/step - loss: 0.0046\n",
            "Epoch 12/100\n",
            "1198/1198 [==============================] - 12s 10ms/step - loss: 0.0045\n",
            "Epoch 13/100\n",
            "1198/1198 [==============================] - 12s 10ms/step - loss: 0.0046\n",
            "Epoch 14/100\n",
            "1198/1198 [==============================] - 12s 10ms/step - loss: 0.0046\n",
            "Epoch 15/100\n",
            "1198/1198 [==============================] - 12s 10ms/step - loss: 0.0046\n",
            "Epoch 16/100\n",
            "1198/1198 [==============================] - 12s 10ms/step - loss: 0.0041\n",
            "Epoch 17/100\n",
            "1198/1198 [==============================] - 12s 10ms/step - loss: 0.0043\n",
            "Epoch 18/100\n",
            "1198/1198 [==============================] - 12s 10ms/step - loss: 0.0044\n",
            "Epoch 19/100\n",
            "1198/1198 [==============================] - 12s 10ms/step - loss: 0.0043\n",
            "Epoch 20/100\n",
            "1198/1198 [==============================] - 12s 10ms/step - loss: 0.0043\n",
            "Epoch 21/100\n",
            "1198/1198 [==============================] - 12s 10ms/step - loss: 0.0044\n",
            "Epoch 22/100\n",
            "1198/1198 [==============================] - 12s 10ms/step - loss: 0.0041\n",
            "Epoch 23/100\n",
            "1198/1198 [==============================] - 12s 10ms/step - loss: 0.0039\n",
            "Epoch 24/100\n",
            "1198/1198 [==============================] - 12s 10ms/step - loss: 0.0039\n",
            "Epoch 25/100\n",
            "1198/1198 [==============================] - 12s 10ms/step - loss: 0.0040\n",
            "Epoch 26/100\n",
            "1198/1198 [==============================] - 12s 10ms/step - loss: 0.0039\n",
            "Epoch 27/100\n",
            "1198/1198 [==============================] - 12s 10ms/step - loss: 0.0041\n",
            "Epoch 28/100\n",
            "1198/1198 [==============================] - 12s 10ms/step - loss: 0.0039\n",
            "Epoch 29/100\n",
            "1198/1198 [==============================] - 12s 10ms/step - loss: 0.0038\n",
            "Epoch 30/100\n",
            "1198/1198 [==============================] - 12s 10ms/step - loss: 0.0036\n",
            "Epoch 31/100\n",
            "1198/1198 [==============================] - 12s 10ms/step - loss: 0.0041\n",
            "Epoch 32/100\n",
            "1198/1198 [==============================] - 12s 10ms/step - loss: 0.0036\n",
            "Epoch 33/100\n",
            "1198/1198 [==============================] - 12s 10ms/step - loss: 0.0038\n",
            "Epoch 34/100\n",
            "1198/1198 [==============================] - 12s 10ms/step - loss: 0.0037\n",
            "Epoch 35/100\n",
            "1198/1198 [==============================] - 12s 10ms/step - loss: 0.0039\n",
            "Epoch 36/100\n",
            "1198/1198 [==============================] - 12s 10ms/step - loss: 0.0037\n",
            "Epoch 37/100\n",
            "1198/1198 [==============================] - 12s 10ms/step - loss: 0.0037\n",
            "Epoch 38/100\n",
            "1198/1198 [==============================] - 12s 10ms/step - loss: 0.0038\n",
            "Epoch 39/100\n",
            "1198/1198 [==============================] - 12s 10ms/step - loss: 0.0042\n",
            "Epoch 40/100\n",
            "1198/1198 [==============================] - 12s 10ms/step - loss: 0.0037\n",
            "Epoch 41/100\n",
            "1198/1198 [==============================] - 12s 10ms/step - loss: 0.0036\n",
            "Epoch 42/100\n",
            "1198/1198 [==============================] - 12s 10ms/step - loss: 0.0034\n",
            "Epoch 43/100\n",
            "1198/1198 [==============================] - 12s 10ms/step - loss: 0.0038\n",
            "Epoch 44/100\n",
            "1198/1198 [==============================] - 12s 10ms/step - loss: 0.0036\n",
            "Epoch 45/100\n",
            "1198/1198 [==============================] - 12s 10ms/step - loss: 0.0039\n",
            "Epoch 46/100\n",
            "1198/1198 [==============================] - 12s 10ms/step - loss: 0.0038\n",
            "Epoch 47/100\n",
            "1198/1198 [==============================] - 12s 10ms/step - loss: 0.0037\n",
            "Epoch 48/100\n",
            "1198/1198 [==============================] - 12s 10ms/step - loss: 0.0033\n",
            "Epoch 49/100\n",
            "1198/1198 [==============================] - 12s 10ms/step - loss: 0.0035\n",
            "Epoch 50/100\n",
            "1198/1198 [==============================] - 12s 10ms/step - loss: 0.0035\n",
            "Epoch 51/100\n",
            "1198/1198 [==============================] - 12s 10ms/step - loss: 0.0036\n",
            "Epoch 52/100\n",
            "1198/1198 [==============================] - 12s 10ms/step - loss: 0.0035\n",
            "Epoch 53/100\n",
            "1198/1198 [==============================] - 12s 10ms/step - loss: 0.0035\n",
            "Epoch 54/100\n",
            "1198/1198 [==============================] - 12s 10ms/step - loss: 0.0036\n",
            "Epoch 55/100\n",
            "1198/1198 [==============================] - 12s 10ms/step - loss: 0.0035\n",
            "Epoch 56/100\n",
            "1198/1198 [==============================] - 12s 10ms/step - loss: 0.0036\n",
            "Epoch 57/100\n",
            "1198/1198 [==============================] - 12s 10ms/step - loss: 0.0034\n",
            "Epoch 58/100\n",
            "1198/1198 [==============================] - 12s 10ms/step - loss: 0.0034\n",
            "Epoch 59/100\n",
            "1198/1198 [==============================] - 12s 10ms/step - loss: 0.0035\n",
            "Epoch 60/100\n",
            "1198/1198 [==============================] - 12s 10ms/step - loss: 0.0035\n",
            "Epoch 61/100\n",
            "1198/1198 [==============================] - 12s 10ms/step - loss: 0.0034\n",
            "Epoch 62/100\n",
            "1198/1198 [==============================] - 12s 10ms/step - loss: 0.0034\n",
            "Epoch 63/100\n",
            "1198/1198 [==============================] - 12s 10ms/step - loss: 0.0033\n",
            "Epoch 64/100\n",
            "1198/1198 [==============================] - 12s 10ms/step - loss: 0.0035\n",
            "Epoch 65/100\n",
            "1198/1198 [==============================] - 12s 10ms/step - loss: 0.0034\n",
            "Epoch 66/100\n",
            "1198/1198 [==============================] - 12s 10ms/step - loss: 0.0032\n",
            "Epoch 67/100\n",
            "1198/1198 [==============================] - 12s 10ms/step - loss: 0.0035\n",
            "Epoch 68/100\n",
            "1198/1198 [==============================] - 12s 10ms/step - loss: 0.0033\n",
            "Epoch 69/100\n",
            "1198/1198 [==============================] - 12s 10ms/step - loss: 0.0033\n",
            "Epoch 70/100\n",
            "1198/1198 [==============================] - 12s 10ms/step - loss: 0.0033\n",
            "Epoch 71/100\n",
            "1198/1198 [==============================] - 12s 10ms/step - loss: 0.0033\n",
            "Epoch 72/100\n",
            "1198/1198 [==============================] - 12s 10ms/step - loss: 0.0033\n",
            "Epoch 73/100\n",
            "1198/1198 [==============================] - 12s 10ms/step - loss: 0.0033\n",
            "Epoch 74/100\n",
            "1198/1198 [==============================] - 12s 10ms/step - loss: 0.0035\n",
            "Epoch 75/100\n",
            "1198/1198 [==============================] - 12s 10ms/step - loss: 0.0035\n",
            "Epoch 76/100\n",
            "1198/1198 [==============================] - 12s 10ms/step - loss: 0.0033\n",
            "Epoch 77/100\n",
            "1198/1198 [==============================] - 12s 10ms/step - loss: 0.0033\n",
            "Epoch 78/100\n",
            "1198/1198 [==============================] - 12s 10ms/step - loss: 0.0033\n",
            "Epoch 79/100\n",
            "1198/1198 [==============================] - 12s 10ms/step - loss: 0.0031\n",
            "Epoch 80/100\n",
            "1198/1198 [==============================] - 12s 10ms/step - loss: 0.0032\n",
            "Epoch 81/100\n",
            "1198/1198 [==============================] - 12s 10ms/step - loss: 0.0033\n",
            "Epoch 82/100\n",
            "1198/1198 [==============================] - 12s 10ms/step - loss: 0.0032\n",
            "Epoch 83/100\n",
            "1198/1198 [==============================] - 12s 10ms/step - loss: 0.0033\n",
            "Epoch 84/100\n",
            "1198/1198 [==============================] - 12s 10ms/step - loss: 0.0034\n",
            "Epoch 85/100\n",
            "1198/1198 [==============================] - 12s 10ms/step - loss: 0.0032\n",
            "Epoch 86/100\n",
            "1198/1198 [==============================] - 12s 10ms/step - loss: 0.0031\n",
            "Epoch 87/100\n",
            "1198/1198 [==============================] - 12s 10ms/step - loss: 0.0033\n",
            "Epoch 88/100\n",
            "1198/1198 [==============================] - 12s 10ms/step - loss: 0.0032\n",
            "Epoch 89/100\n",
            "1198/1198 [==============================] - 12s 10ms/step - loss: 0.0033\n",
            "Epoch 90/100\n",
            "1198/1198 [==============================] - 12s 10ms/step - loss: 0.0031\n",
            "Epoch 91/100\n",
            "1198/1198 [==============================] - 12s 10ms/step - loss: 0.0033\n",
            "Epoch 92/100\n",
            "1198/1198 [==============================] - 12s 10ms/step - loss: 0.0033\n",
            "Epoch 93/100\n",
            "1198/1198 [==============================] - 12s 10ms/step - loss: 0.0033\n",
            "Epoch 94/100\n",
            "1198/1198 [==============================] - 12s 10ms/step - loss: 0.0033\n",
            "Epoch 95/100\n",
            "1198/1198 [==============================] - 12s 10ms/step - loss: 0.0032\n",
            "Epoch 96/100\n",
            "1198/1198 [==============================] - 12s 10ms/step - loss: 0.0032\n",
            "Epoch 97/100\n",
            "1198/1198 [==============================] - 12s 10ms/step - loss: 0.0034\n",
            "Epoch 98/100\n",
            "1198/1198 [==============================] - 12s 10ms/step - loss: 0.0033\n",
            "Epoch 99/100\n",
            "1198/1198 [==============================] - 12s 10ms/step - loss: 0.0031\n",
            "Epoch 100/100\n",
            "1198/1198 [==============================] - 12s 10ms/step - loss: 0.0031\n"
          ],
          "name": "stdout"
        },
        {
          "output_type": "execute_result",
          "data": {
            "text/plain": [
              "<keras.callbacks.History at 0x7f1d1faf27f0>"
            ]
          },
          "metadata": {
            "tags": []
          },
          "execution_count": 17
        }
      ]
    },
    {
      "cell_type": "code",
      "metadata": {
        "id": "I_fnzo7U22kR",
        "colab_type": "code",
        "outputId": "ede3d6c7-605b-4502-dea4-3553ad3faf60",
        "colab": {
          "base_uri": "https://localhost:8080/",
          "height": 294
        }
      },
      "source": [
        "dataset_test = pd.read_csv('RNN-Exploration/Google_Stock_Price_Test.csv')\n",
        "real_stock_price = dataset_test.iloc[:, 1:2].values\n",
        "\n",
        "dataset_total = pd.concat((dataset_train['Open'], dataset_test['Open']), axis = 0)\n",
        "inputs = dataset_total[len(dataset_total) - len(dataset_test) - 60:].values\n",
        "inputs = inputs.reshape(-1,1)\n",
        "inputs = sc.transform(inputs)\n",
        "X_test = []\n",
        "for i in range(60, 80):\n",
        "    X_test.append(inputs[i-60:i, 0])\n",
        "X_test = np.array(X_test)\n",
        "X_test = np.reshape(X_test, (X_test.shape[0], X_test.shape[1], 1))\n",
        "predicted_stock_price = regressor.predict(X_test)\n",
        "predicted_stock_price = sc.inverse_transform(predicted_stock_price)\n",
        "\n",
        "plt.plot(real_stock_price, color = 'red', label = 'Real Google Stock Price')\n",
        "plt.plot(predicted_stock_price, color = 'blue', label = 'Predicted Google Stock Price')\n",
        "plt.title('Google Stock Price Prediction')\n",
        "plt.xlabel('Time')\n",
        "plt.ylabel('Google Stock Price')\n",
        "plt.legend()\n",
        "plt.show()"
      ],
      "execution_count": 0,
      "outputs": [
        {
          "output_type": "display_data",
          "data": {
            "image/png": "[encoded data removed]",
            "text/plain": [
              "<Figure size 432x288 with 1 Axes>"
            ]
          },
          "metadata": {
            "tags": []
          }
        }
      ]
    },
    {
      "cell_type": "markdown",
      "metadata": {
        "id": "9DiKs0s72CBR",
        "colab_type": "text"
      },
      "source": [
        "Model 3:  oprimizer = adam dan batch_size = 16"
      ]
    },
    {
      "cell_type": "code",
      "metadata": {
        "id": "IASPM6WTnH-m",
        "colab_type": "code",
        "outputId": "639be6aa-cd84-4bcc-bc37-7b8348d5d101",
        "colab": {
          "base_uri": "https://localhost:8080/",
          "height": 52
        }
      },
      "source": [
        "regressor.compile(optimizer = 'adam', loss = 'mean_squared_error')"
      ],
      "execution_count": 0,
      "outputs": [
        {
          "output_type": "stream",
          "text": [
            "WARNING:tensorflow:From /usr/local/lib/python3.6/dist-packages/keras/optimizers.py:793: The name tf.train.Optimizer is deprecated. Please use tf.compat.v1.train.Optimizer instead.\n",
            "\n"
          ],
          "name": "stdout"
        }
      ]
    },
    {
      "cell_type": "code",
      "metadata": {
        "id": "QrO5ljkKnK0d",
        "colab_type": "code",
        "outputId": "14ec940d-81b9-4fe6-9aba-226df21eb320",
        "colab": {
          "base_uri": "https://localhost:8080/",
          "height": 1000
        }
      },
      "source": [
        "regressor.fit(X_train, y_train, epochs = 100, batch_size = 16)"
      ],
      "execution_count": 0,
      "outputs": [
        {
          "output_type": "stream",
          "text": [
            "WARNING:tensorflow:From /usr/local/lib/python3.6/dist-packages/tensorflow_core/python/ops/math_grad.py:1424: where (from tensorflow.python.ops.array_ops) is deprecated and will be removed in a future version.\n",
            "Instructions for updating:\n",
            "Use tf.where in 2.0, which has the same broadcast rule as np.where\n",
            "WARNING:tensorflow:From /usr/local/lib/python3.6/dist-packages/keras/backend/tensorflow_backend.py:1033: The name tf.assign_add is deprecated. Please use tf.compat.v1.assign_add instead.\n",
            "\n",
            "WARNING:tensorflow:From /usr/local/lib/python3.6/dist-packages/keras/backend/tensorflow_backend.py:1020: The name tf.assign is deprecated. Please use tf.compat.v1.assign instead.\n",
            "\n",
            "WARNING:tensorflow:From /usr/local/lib/python3.6/dist-packages/keras/backend/tensorflow_backend.py:3005: The name tf.Session is deprecated. Please use tf.compat.v1.Session instead.\n",
            "\n",
            "Epoch 1/100\n",
            "WARNING:tensorflow:From /usr/local/lib/python3.6/dist-packages/keras/backend/tensorflow_backend.py:190: The name tf.get_default_session is deprecated. Please use tf.compat.v1.get_default_session instead.\n",
            "\n",
            "WARNING:tensorflow:From /usr/local/lib/python3.6/dist-packages/keras/backend/tensorflow_backend.py:197: The name tf.ConfigProto is deprecated. Please use tf.compat.v1.ConfigProto instead.\n",
            "\n",
            "WARNING:tensorflow:From /usr/local/lib/python3.6/dist-packages/keras/backend/tensorflow_backend.py:207: The name tf.global_variables is deprecated. Please use tf.compat.v1.global_variables instead.\n",
            "\n",
            "WARNING:tensorflow:From /usr/local/lib/python3.6/dist-packages/keras/backend/tensorflow_backend.py:216: The name tf.is_variable_initialized is deprecated. Please use tf.compat.v1.is_variable_initialized instead.\n",
            "\n",
            "WARNING:tensorflow:From /usr/local/lib/python3.6/dist-packages/keras/backend/tensorflow_backend.py:223: The name tf.variables_initializer is deprecated. Please use tf.compat.v1.variables_initializer instead.\n",
            "\n",
            "1198/1198 [==============================] - 13s 11ms/step - loss: 0.0264\n",
            "Epoch 2/100\n",
            "1198/1198 [==============================] - 11s 9ms/step - loss: 0.0047\n",
            "Epoch 3/100\n",
            "1198/1198 [==============================] - 11s 9ms/step - loss: 0.0045\n",
            "Epoch 4/100\n",
            "1198/1198 [==============================] - 11s 9ms/step - loss: 0.0047\n",
            "Epoch 5/100\n",
            "1198/1198 [==============================] - 11s 9ms/step - loss: 0.0042\n",
            "Epoch 6/100\n",
            "1198/1198 [==============================] - 11s 9ms/step - loss: 0.0040\n",
            "Epoch 7/100\n",
            "1198/1198 [==============================] - 11s 9ms/step - loss: 0.0038\n",
            "Epoch 8/100\n",
            "1198/1198 [==============================] - 11s 9ms/step - loss: 0.0040\n",
            "Epoch 9/100\n",
            "1198/1198 [==============================] - 11s 9ms/step - loss: 0.0039\n",
            "Epoch 10/100\n",
            "1198/1198 [==============================] - 11s 9ms/step - loss: 0.0031\n",
            "Epoch 11/100\n",
            "1198/1198 [==============================] - 11s 9ms/step - loss: 0.0038\n",
            "Epoch 12/100\n",
            "1198/1198 [==============================] - 11s 9ms/step - loss: 0.0035\n",
            "Epoch 13/100\n",
            "1198/1198 [==============================] - 11s 9ms/step - loss: 0.0030\n",
            "Epoch 14/100\n",
            "1198/1198 [==============================] - 11s 9ms/step - loss: 0.0030\n",
            "Epoch 15/100\n",
            "1198/1198 [==============================] - 11s 9ms/step - loss: 0.0031\n",
            "Epoch 16/100\n",
            "1198/1198 [==============================] - 11s 9ms/step - loss: 0.0029\n",
            "Epoch 17/100\n",
            "1198/1198 [==============================] - 11s 9ms/step - loss: 0.0030\n",
            "Epoch 18/100\n",
            "1198/1198 [==============================] - 11s 9ms/step - loss: 0.0026\n",
            "Epoch 19/100\n",
            "1198/1198 [==============================] - 11s 9ms/step - loss: 0.0026\n",
            "Epoch 20/100\n",
            "1198/1198 [==============================] - 11s 9ms/step - loss: 0.0027\n",
            "Epoch 21/100\n",
            "1198/1198 [==============================] - 11s 9ms/step - loss: 0.0028\n",
            "Epoch 22/100\n",
            "1198/1198 [==============================] - 11s 9ms/step - loss: 0.0028\n",
            "Epoch 23/100\n",
            "1198/1198 [==============================] - 11s 9ms/step - loss: 0.0025\n",
            "Epoch 24/100\n",
            "1198/1198 [==============================] - 11s 9ms/step - loss: 0.0024\n",
            "Epoch 25/100\n",
            "1198/1198 [==============================] - 11s 9ms/step - loss: 0.0022\n",
            "Epoch 26/100\n",
            "1198/1198 [==============================] - 11s 9ms/step - loss: 0.0022\n",
            "Epoch 27/100\n",
            "1198/1198 [==============================] - 11s 9ms/step - loss: 0.0023\n",
            "Epoch 28/100\n",
            "1198/1198 [==============================] - 11s 9ms/step - loss: 0.0022\n",
            "Epoch 29/100\n",
            "1198/1198 [==============================] - 11s 9ms/step - loss: 0.0022\n",
            "Epoch 30/100\n",
            "1198/1198 [==============================] - 11s 9ms/step - loss: 0.0020\n",
            "Epoch 31/100\n",
            "1198/1198 [==============================] - 11s 9ms/step - loss: 0.0020\n",
            "Epoch 32/100\n",
            "1198/1198 [==============================] - 11s 9ms/step - loss: 0.0020\n",
            "Epoch 33/100\n",
            "1198/1198 [==============================] - 11s 9ms/step - loss: 0.0020\n",
            "Epoch 34/100\n",
            "1198/1198 [==============================] - 11s 9ms/step - loss: 0.0021\n",
            "Epoch 35/100\n",
            "1198/1198 [==============================] - 11s 9ms/step - loss: 0.0022\n",
            "Epoch 36/100\n",
            "1198/1198 [==============================] - 11s 9ms/step - loss: 0.0017\n",
            "Epoch 37/100\n",
            "1198/1198 [==============================] - 11s 9ms/step - loss: 0.0019\n",
            "Epoch 38/100\n",
            "1198/1198 [==============================] - 11s 9ms/step - loss: 0.0019\n",
            "Epoch 39/100\n",
            "1198/1198 [==============================] - 11s 9ms/step - loss: 0.0019\n",
            "Epoch 40/100\n",
            "1198/1198 [==============================] - 11s 9ms/step - loss: 0.0022\n",
            "Epoch 41/100\n",
            "1198/1198 [==============================] - 11s 9ms/step - loss: 0.0019\n",
            "Epoch 42/100\n",
            "1198/1198 [==============================] - 11s 9ms/step - loss: 0.0017\n",
            "Epoch 43/100\n",
            "1198/1198 [==============================] - 11s 9ms/step - loss: 0.0018\n",
            "Epoch 44/100\n",
            "1198/1198 [==============================] - 11s 9ms/step - loss: 0.0020\n",
            "Epoch 45/100\n",
            "1198/1198 [==============================] - 11s 9ms/step - loss: 0.0018\n",
            "Epoch 46/100\n",
            "1198/1198 [==============================] - 11s 9ms/step - loss: 0.0017\n",
            "Epoch 47/100\n",
            "1198/1198 [==============================] - 11s 9ms/step - loss: 0.0015\n",
            "Epoch 48/100\n",
            "1198/1198 [==============================] - 11s 9ms/step - loss: 0.0016\n",
            "Epoch 49/100\n",
            "1198/1198 [==============================] - 11s 9ms/step - loss: 0.0017\n",
            "Epoch 50/100\n",
            "1198/1198 [==============================] - 11s 9ms/step - loss: 0.0015\n",
            "Epoch 51/100\n",
            "1198/1198 [==============================] - 11s 9ms/step - loss: 0.0016\n",
            "Epoch 52/100\n",
            "1198/1198 [==============================] - 11s 9ms/step - loss: 0.0018\n",
            "Epoch 53/100\n",
            "1198/1198 [==============================] - 11s 9ms/step - loss: 0.0015\n",
            "Epoch 54/100\n",
            "1198/1198 [==============================] - 11s 9ms/step - loss: 0.0014\n",
            "Epoch 55/100\n",
            "1198/1198 [==============================] - 11s 9ms/step - loss: 0.0014\n",
            "Epoch 56/100\n",
            "1198/1198 [==============================] - 11s 9ms/step - loss: 0.0015\n",
            "Epoch 57/100\n",
            "1198/1198 [==============================] - 11s 9ms/step - loss: 0.0015\n",
            "Epoch 58/100\n",
            "1198/1198 [==============================] - 11s 9ms/step - loss: 0.0013\n",
            "Epoch 59/100\n",
            "1198/1198 [==============================] - 11s 9ms/step - loss: 0.0013\n",
            "Epoch 60/100\n",
            "1198/1198 [==============================] - 11s 9ms/step - loss: 0.0014\n",
            "Epoch 61/100\n",
            "1198/1198 [==============================] - 11s 9ms/step - loss: 0.0013\n",
            "Epoch 62/100\n",
            "1198/1198 [==============================] - 11s 9ms/step - loss: 0.0014\n",
            "Epoch 63/100\n",
            "1198/1198 [==============================] - 11s 9ms/step - loss: 0.0014\n",
            "Epoch 64/100\n",
            "1198/1198 [==============================] - 11s 9ms/step - loss: 0.0013\n",
            "Epoch 65/100\n",
            "1198/1198 [==============================] - 11s 9ms/step - loss: 0.0013\n",
            "Epoch 66/100\n",
            "1198/1198 [==============================] - 11s 9ms/step - loss: 0.0012\n",
            "Epoch 67/100\n",
            "1198/1198 [==============================] - 11s 9ms/step - loss: 0.0015\n",
            "Epoch 68/100\n",
            "1198/1198 [==============================] - 11s 9ms/step - loss: 0.0013\n",
            "Epoch 69/100\n",
            "1198/1198 [==============================] - 11s 9ms/step - loss: 0.0013\n",
            "Epoch 70/100\n",
            "1198/1198 [==============================] - 11s 9ms/step - loss: 0.0012\n",
            "Epoch 71/100\n",
            "1198/1198 [==============================] - 11s 9ms/step - loss: 0.0013\n",
            "Epoch 72/100\n",
            "1198/1198 [==============================] - 11s 9ms/step - loss: 0.0013\n",
            "Epoch 73/100\n",
            "1198/1198 [==============================] - 11s 9ms/step - loss: 0.0015\n",
            "Epoch 74/100\n",
            "1198/1198 [==============================] - 11s 9ms/step - loss: 0.0012\n",
            "Epoch 75/100\n",
            "1198/1198 [==============================] - 11s 9ms/step - loss: 0.0012\n",
            "Epoch 76/100\n",
            "1198/1198 [==============================] - 11s 9ms/step - loss: 0.0011\n",
            "Epoch 77/100\n",
            "1198/1198 [==============================] - 11s 9ms/step - loss: 0.0012\n",
            "Epoch 78/100\n",
            "1198/1198 [==============================] - 11s 9ms/step - loss: 0.0011\n",
            "Epoch 79/100\n",
            "1198/1198 [==============================] - 11s 9ms/step - loss: 0.0011\n",
            "Epoch 80/100\n",
            "1198/1198 [==============================] - 11s 9ms/step - loss: 0.0012\n",
            "Epoch 81/100\n",
            "1198/1198 [==============================] - 11s 9ms/step - loss: 0.0012\n",
            "Epoch 82/100\n",
            "1198/1198 [==============================] - 11s 9ms/step - loss: 0.0011\n",
            "Epoch 83/100\n",
            "1198/1198 [==============================] - 11s 9ms/step - loss: 0.0011\n",
            "Epoch 84/100\n",
            "1198/1198 [==============================] - 11s 9ms/step - loss: 0.0012\n",
            "Epoch 85/100\n",
            "1198/1198 [==============================] - 11s 9ms/step - loss: 0.0012\n",
            "Epoch 86/100\n",
            "1198/1198 [==============================] - 11s 9ms/step - loss: 0.0013\n",
            "Epoch 87/100\n",
            "1198/1198 [==============================] - 11s 9ms/step - loss: 0.0012\n",
            "Epoch 88/100\n",
            "1198/1198 [==============================] - 11s 9ms/step - loss: 0.0012\n",
            "Epoch 89/100\n",
            "1198/1198 [==============================] - 11s 9ms/step - loss: 0.0011\n",
            "Epoch 90/100\n",
            "1198/1198 [==============================] - 11s 9ms/step - loss: 0.0012\n",
            "Epoch 91/100\n",
            "1198/1198 [==============================] - 11s 9ms/step - loss: 0.0011\n",
            "Epoch 92/100\n",
            "1198/1198 [==============================] - 11s 9ms/step - loss: 0.0011\n",
            "Epoch 93/100\n",
            "1198/1198 [==============================] - 11s 9ms/step - loss: 0.0012\n",
            "Epoch 94/100\n",
            "1198/1198 [==============================] - 11s 9ms/step - loss: 0.0012\n",
            "Epoch 95/100\n",
            "1198/1198 [==============================] - 11s 9ms/step - loss: 9.9706e-04\n",
            "Epoch 96/100\n",
            "1198/1198 [==============================] - 11s 9ms/step - loss: 0.0012\n",
            "Epoch 97/100\n",
            "1198/1198 [==============================] - 11s 9ms/step - loss: 0.0012\n",
            "Epoch 98/100\n",
            "1198/1198 [==============================] - 11s 9ms/step - loss: 0.0012\n",
            "Epoch 99/100\n",
            "1198/1198 [==============================] - 11s 9ms/step - loss: 0.0011\n",
            "Epoch 100/100\n",
            "1198/1198 [==============================] - 11s 9ms/step - loss: 0.0010\n"
          ],
          "name": "stdout"
        },
        {
          "output_type": "execute_result",
          "data": {
            "text/plain": [
              "<keras.callbacks.History at 0x7f2afc4652e8>"
            ]
          },
          "metadata": {
            "tags": []
          },
          "execution_count": 28
        }
      ]
    },
    {
      "cell_type": "code",
      "metadata": {
        "id": "3njwMc7kqUTX",
        "colab_type": "code",
        "colab": {}
      },
      "source": [
        "dataset_test = pd.read_csv('Google_Stock_Price_Test.csv')\n",
        "real_stock_price = dataset_test.iloc[:, 1:2].values"
      ],
      "execution_count": 0,
      "outputs": []
    },
    {
      "cell_type": "code",
      "metadata": {
        "id": "c1exyFT1r4Jj",
        "colab_type": "code",
        "colab": {}
      },
      "source": [
        "dataset_total = pd.concat((dataset_train['Open'], dataset_test['Open']), axis = 0)\n",
        "inputs = dataset_total[len(dataset_total) - len(dataset_test) - 60:].values\n",
        "inputs = inputs.reshape(-1,1)\n",
        "inputs = sc.transform(inputs)\n",
        "X_test = []\n",
        "for i in range(60, 80):\n",
        "    X_test.append(inputs[i-60:i, 0])\n",
        "X_test = np.array(X_test)\n",
        "X_test = np.reshape(X_test, (X_test.shape[0], X_test.shape[1], 1))\n",
        "predicted_stock_price = regressor.predict(X_test)\n",
        "predicted_stock_price = sc.inverse_transform(predicted_stock_price)"
      ],
      "execution_count": 0,
      "outputs": []
    },
    {
      "cell_type": "code",
      "metadata": {
        "id": "qnRF8jnIr7wU",
        "colab_type": "code",
        "outputId": "561723cd-97f8-4c1d-bed9-4118c52aa3cd",
        "colab": {
          "base_uri": "https://localhost:8080/",
          "height": 294
        }
      },
      "source": [
        "plt.plot(real_stock_price, color = 'red', label = 'Real Google Stock Price')\n",
        "plt.plot(predicted_stock_price, color = 'blue', label = 'Predicted Google Stock Price')\n",
        "plt.title('Google Stock Price Prediction')\n",
        "plt.xlabel('Time')\n",
        "plt.ylabel('Google Stock Price')\n",
        "plt.legend()\n",
        "plt.show()"
      ],
      "execution_count": 0,
      "outputs": [
        {
          "output_type": "display_data",
          "data": {
            "image/png": "[encoded data removed]",
            "text/plain": [
              "<Figure size 432x288 with 1 Axes>"
            ]
          },
          "metadata": {
            "tags": []
          }
        }
      ]
    },
    {
      "cell_type": "code",
      "metadata": {
        "id": "lt9wrhigr-IZ",
        "colab_type": "code",
        "colab": {}
      },
      "source": [
        ""
      ],
      "execution_count": 0,
      "outputs": []
    }
  ]
}