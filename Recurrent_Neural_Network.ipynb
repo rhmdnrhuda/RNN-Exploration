{
  "nbformat": 4,
  "nbformat_minor": 0,
  "metadata": {
    "colab": {
      "name": "Recurrent Neural Network.ipynb",
      "provenance": [],
      "collapsed_sections": [],
      "toc_visible": true,
      "include_colab_link": true
    },
    "kernelspec": {
      "name": "python3",
      "display_name": "Python 3"
    },
    "accelerator": "TPU"
  },
  "cells": [
    {
      "cell_type": "markdown",
      "metadata": {
        "id": "view-in-github",
        "colab_type": "text"
      },
      "source": [
        "<a href=\"https://colab.research.google.com/github/rhmdnrhuda/RNN-Exploration/blob/master/Recurrent_Neural_Network.ipynb\" target=\"_parent\"><img src=\"https://colab.research.google.com/assets/colab-badge.svg\" alt=\"Open In Colab\"/></a>"
      ]
    },
    {
      "cell_type": "code",
      "metadata": {
        "id": "VK87bpg6cEOn",
        "colab_type": "code",
        "colab": {}
      },
      "source": [
        "import numpy as np\n",
        "import matplotlib.pyplot as plt\n",
        "import pandas as pd"
      ],
      "execution_count": 0,
      "outputs": []
    },
    {
      "cell_type": "code",
      "metadata": {
        "id": "fXJHO7Nzt-Yz",
        "colab_type": "code",
        "colab": {}
      },
      "source": [
        "dataset_train = pd.read_csv('Google_Stock_Price_Train.csv')\n",
        "training_set = dataset_train.iloc[:, 1:2].values\n",
        "import matplotlib.pyplot as plt"
      ],
      "execution_count": 0,
      "outputs": []
    },
    {
      "cell_type": "code",
      "metadata": {
        "id": "JtBgr9vwuLgW",
        "colab_type": "code",
        "colab": {}
      },
      "source": [
        "from sklearn.preprocessing import MinMaxScaler\n",
        "sc = MinMaxScaler(feature_range = (0, 1))\n",
        "training_set_scaled = sc.fit_transform(training_set)"
      ],
      "execution_count": 0,
      "outputs": []
    },
    {
      "cell_type": "code",
      "metadata": {
        "id": "WDxYzT1AuQUS",
        "colab_type": "code",
        "colab": {}
      },
      "source": [
        "X_train = []\n",
        "y_train = []\n",
        "for i in range(60, 1258):\n",
        "    X_train.append(training_set_scaled[i-60:i, 0])\n",
        "    y_train.append(training_set_scaled[i, 0])\n",
        "X_train, y_train = np.array(X_train), np.array(y_train)"
      ],
      "execution_count": 0,
      "outputs": []
    },
    {
      "cell_type": "code",
      "metadata": {
        "id": "d1DTAcuDuUdR",
        "colab_type": "code",
        "colab": {}
      },
      "source": [
        "X_train = np.reshape(X_train, (X_train.shape[0], X_train.shape[1], 1))"
      ],
      "execution_count": 0,
      "outputs": []
    },
    {
      "cell_type": "markdown",
      "metadata": {
        "id": "MSoK8TyYmDP6",
        "colab_type": "text"
      },
      "source": [
        "##Membuat RNN"
      ]
    },
    {
      "cell_type": "code",
      "metadata": {
        "id": "mKIvBiChzxR-",
        "colab_type": "code",
        "colab": {}
      },
      "source": [
        "from keras.models import Sequential\n",
        "from keras.layers import Dense\n",
        "from keras.layers import LSTM\n",
        "from keras.layers import Dropout"
      ],
      "execution_count": 0,
      "outputs": []
    },
    {
      "cell_type": "code",
      "metadata": {
        "id": "x2hEmpYxmLWU",
        "colab_type": "code",
        "colab": {}
      },
      "source": [
        "regressor = Sequential()"
      ],
      "execution_count": 0,
      "outputs": []
    },
    {
      "cell_type": "code",
      "metadata": {
        "id": "Uhm_jYqjmWk-",
        "colab_type": "code",
        "outputId": "f7495e51-5044-4775-dcb2-15b7ee36c79f",
        "colab": {
          "base_uri": "https://localhost:8080/",
          "height": 161
        }
      },
      "source": [
        "regressor.add(LSTM(units = 50, return_sequences = True, input_shape = (X_train.shape[1], 1)))\n",
        "regressor.add(Dropout(0.2))"
      ],
      "execution_count": 0,
      "outputs": [
        {
          "output_type": "stream",
          "text": [
            "WARNING:tensorflow:From /usr/local/lib/python3.6/dist-packages/keras/backend/tensorflow_backend.py:4432: The name tf.random_uniform is deprecated. Please use tf.random.uniform instead.\n",
            "\n",
            "WARNING:tensorflow:From /usr/local/lib/python3.6/dist-packages/keras/backend/tensorflow_backend.py:148: The name tf.placeholder_with_default is deprecated. Please use tf.compat.v1.placeholder_with_default instead.\n",
            "\n",
            "WARNING:tensorflow:From /usr/local/lib/python3.6/dist-packages/keras/backend/tensorflow_backend.py:3733: calling dropout (from tensorflow.python.ops.nn_ops) with keep_prob is deprecated and will be removed in a future version.\n",
            "Instructions for updating:\n",
            "Please use `rate` instead of `keep_prob`. Rate should be set to `rate = 1 - keep_prob`.\n"
          ],
          "name": "stdout"
        }
      ]
    },
    {
      "cell_type": "code",
      "metadata": {
        "id": "v2USb5pymwPd",
        "colab_type": "code",
        "colab": {}
      },
      "source": [
        "regressor.add(LSTM(units = 50, return_sequences = True))\n",
        "regressor.add(Dropout(0.2))"
      ],
      "execution_count": 0,
      "outputs": []
    },
    {
      "cell_type": "code",
      "metadata": {
        "id": "cXIbWjAdnDhk",
        "colab_type": "code",
        "colab": {}
      },
      "source": [
        "regressor.add(LSTM(units = 50))\n",
        "regressor.add(Dropout(0.2))"
      ],
      "execution_count": 0,
      "outputs": []
    },
    {
      "cell_type": "code",
      "metadata": {
        "id": "t5JhhF6UnF94",
        "colab_type": "code",
        "colab": {}
      },
      "source": [
        "regressor.add(Dense(units = 1))"
      ],
      "execution_count": 0,
      "outputs": []
    },
    {
      "cell_type": "markdown",
      "metadata": {
        "id": "j0TbyiGQ1jhX",
        "colab_type": "text"
      },
      "source": [
        "Model 1:  optimizer = adam  dan batch_size = 32"
      ]
    },
    {
      "cell_type": "code",
      "metadata": {
        "id": "dQnPETYy1qF5",
        "colab_type": "code",
        "colab": {}
      },
      "source": [
        "regressor.compile(optimizer = 'adam', loss = 'mean_squared_error')"
      ],
      "execution_count": 0,
      "outputs": []
    },
    {
      "cell_type": "code",
      "metadata": {
        "id": "Sh0Bwc2L1uDz",
        "colab_type": "code",
        "outputId": "ec36d5ca-a5cf-4f63-8180-316cab275538",
        "colab": {
          "base_uri": "https://localhost:8080/",
          "height": 1000
        }
      },
      "source": [
        "regressor.fit(X_train, y_train, epochs = 100, batch_size = 32)"
      ],
      "execution_count": 0,
      "outputs": [
        {
          "output_type": "stream",
          "text": [
            "Epoch 1/100\n",
            "1198/1198 [==============================] - 9s 7ms/step - loss: 0.0011\n",
            "Epoch 2/100\n",
            "1198/1198 [==============================] - 6s 5ms/step - loss: 0.0010\n",
            "Epoch 3/100\n",
            "1198/1198 [==============================] - 6s 5ms/step - loss: 9.7277e-04\n",
            "Epoch 4/100\n",
            "1198/1198 [==============================] - 6s 5ms/step - loss: 0.0011\n",
            "Epoch 5/100\n",
            "1198/1198 [==============================] - 6s 5ms/step - loss: 0.0010\n",
            "Epoch 6/100\n",
            "1198/1198 [==============================] - 6s 5ms/step - loss: 8.8053e-04\n",
            "Epoch 7/100\n",
            "1198/1198 [==============================] - 6s 5ms/step - loss: 0.0010\n",
            "Epoch 8/100\n",
            "1198/1198 [==============================] - 6s 5ms/step - loss: 9.6438e-04\n",
            "Epoch 9/100\n",
            "1198/1198 [==============================] - 6s 5ms/step - loss: 9.7128e-04\n",
            "Epoch 10/100\n",
            "1198/1198 [==============================] - 6s 5ms/step - loss: 0.0011\n",
            "Epoch 11/100\n",
            "1198/1198 [==============================] - 6s 5ms/step - loss: 0.0011\n",
            "Epoch 12/100\n",
            "1198/1198 [==============================] - 6s 5ms/step - loss: 0.0011\n",
            "Epoch 13/100\n",
            "1198/1198 [==============================] - 6s 5ms/step - loss: 9.5670e-04\n",
            "Epoch 14/100\n",
            "1198/1198 [==============================] - 6s 5ms/step - loss: 9.6233e-04\n",
            "Epoch 15/100\n",
            "1198/1198 [==============================] - 6s 5ms/step - loss: 9.4713e-04\n",
            "Epoch 16/100\n",
            "1198/1198 [==============================] - 6s 5ms/step - loss: 9.4717e-04\n",
            "Epoch 17/100\n",
            "1198/1198 [==============================] - 6s 5ms/step - loss: 0.0010\n",
            "Epoch 18/100\n",
            "1198/1198 [==============================] - 6s 5ms/step - loss: 9.4256e-04\n",
            "Epoch 19/100\n",
            "1198/1198 [==============================] - 6s 5ms/step - loss: 0.0010\n",
            "Epoch 20/100\n",
            "1198/1198 [==============================] - 6s 5ms/step - loss: 9.9814e-04\n",
            "Epoch 21/100\n",
            "1198/1198 [==============================] - 6s 5ms/step - loss: 9.7269e-04\n",
            "Epoch 22/100\n",
            "1198/1198 [==============================] - 6s 5ms/step - loss: 0.0010\n",
            "Epoch 23/100\n",
            "1198/1198 [==============================] - 6s 5ms/step - loss: 9.3585e-04\n",
            "Epoch 24/100\n",
            "1198/1198 [==============================] - 6s 5ms/step - loss: 0.0010\n",
            "Epoch 25/100\n",
            "1198/1198 [==============================] - 6s 5ms/step - loss: 0.0010\n",
            "Epoch 26/100\n",
            "1198/1198 [==============================] - 6s 5ms/step - loss: 9.4791e-04\n",
            "Epoch 27/100\n",
            "1198/1198 [==============================] - 6s 5ms/step - loss: 0.0011\n",
            "Epoch 28/100\n",
            "1198/1198 [==============================] - 6s 5ms/step - loss: 9.8199e-04\n",
            "Epoch 29/100\n",
            "1198/1198 [==============================] - 6s 5ms/step - loss: 0.0011\n",
            "Epoch 30/100\n",
            "1198/1198 [==============================] - 6s 5ms/step - loss: 0.0010\n",
            "Epoch 31/100\n",
            "1198/1198 [==============================] - 6s 5ms/step - loss: 9.8850e-04\n",
            "Epoch 32/100\n",
            "1198/1198 [==============================] - 6s 5ms/step - loss: 9.4670e-04\n",
            "Epoch 33/100\n",
            "1198/1198 [==============================] - 6s 5ms/step - loss: 9.7610e-04\n",
            "Epoch 34/100\n",
            "1198/1198 [==============================] - 6s 5ms/step - loss: 0.0010\n",
            "Epoch 35/100\n",
            "1198/1198 [==============================] - 6s 5ms/step - loss: 0.0011\n",
            "Epoch 36/100\n",
            "1198/1198 [==============================] - 6s 5ms/step - loss: 9.0196e-04\n",
            "Epoch 37/100\n",
            "1198/1198 [==============================] - 6s 5ms/step - loss: 9.8186e-04\n",
            "Epoch 38/100\n",
            "1198/1198 [==============================] - 6s 5ms/step - loss: 9.5675e-04\n",
            "Epoch 39/100\n",
            "1198/1198 [==============================] - 6s 5ms/step - loss: 9.4867e-04\n",
            "Epoch 40/100\n",
            "1198/1198 [==============================] - 6s 5ms/step - loss: 8.9017e-04\n",
            "Epoch 41/100\n",
            "1198/1198 [==============================] - 6s 5ms/step - loss: 9.6465e-04\n",
            "Epoch 42/100\n",
            "1198/1198 [==============================] - 6s 5ms/step - loss: 0.0010\n",
            "Epoch 43/100\n",
            "1198/1198 [==============================] - 6s 5ms/step - loss: 8.4730e-04\n",
            "Epoch 44/100\n",
            "1198/1198 [==============================] - 6s 5ms/step - loss: 9.5675e-04\n",
            "Epoch 45/100\n",
            "1198/1198 [==============================] - 6s 5ms/step - loss: 9.3764e-04\n",
            "Epoch 46/100\n",
            "1198/1198 [==============================] - 6s 5ms/step - loss: 9.3140e-04\n",
            "Epoch 47/100\n",
            "1198/1198 [==============================] - 6s 5ms/step - loss: 8.5774e-04\n",
            "Epoch 48/100\n",
            "1198/1198 [==============================] - 6s 5ms/step - loss: 9.5572e-04\n",
            "Epoch 49/100\n",
            "1198/1198 [==============================] - 6s 5ms/step - loss: 8.4570e-04\n",
            "Epoch 50/100\n",
            "1198/1198 [==============================] - 6s 5ms/step - loss: 9.2945e-04\n",
            "Epoch 51/100\n",
            "1198/1198 [==============================] - 6s 5ms/step - loss: 9.1729e-04\n",
            "Epoch 52/100\n",
            "1198/1198 [==============================] - 6s 5ms/step - loss: 9.4754e-04\n",
            "Epoch 53/100\n",
            "1198/1198 [==============================] - 6s 5ms/step - loss: 9.2049e-04\n",
            "Epoch 54/100\n",
            "1198/1198 [==============================] - 6s 5ms/step - loss: 9.3357e-04\n",
            "Epoch 55/100\n",
            "1198/1198 [==============================] - 6s 5ms/step - loss: 9.5711e-04\n",
            "Epoch 56/100\n",
            "1198/1198 [==============================] - 6s 5ms/step - loss: 9.1341e-04\n",
            "Epoch 57/100\n",
            "1198/1198 [==============================] - 6s 5ms/step - loss: 9.5294e-04\n",
            "Epoch 58/100\n",
            "1198/1198 [==============================] - 6s 5ms/step - loss: 8.8942e-04\n",
            "Epoch 59/100\n",
            "1198/1198 [==============================] - 6s 5ms/step - loss: 0.0010\n",
            "Epoch 60/100\n",
            "1198/1198 [==============================] - 6s 5ms/step - loss: 8.5970e-04\n",
            "Epoch 61/100\n",
            "1198/1198 [==============================] - 6s 5ms/step - loss: 9.0771e-04\n",
            "Epoch 62/100\n",
            "1198/1198 [==============================] - 6s 5ms/step - loss: 8.6909e-04\n",
            "Epoch 63/100\n",
            "1198/1198 [==============================] - 6s 5ms/step - loss: 9.8124e-04\n",
            "Epoch 64/100\n",
            "1198/1198 [==============================] - 6s 5ms/step - loss: 8.9490e-04\n",
            "Epoch 65/100\n",
            "1198/1198 [==============================] - 6s 5ms/step - loss: 8.1429e-04\n",
            "Epoch 66/100\n",
            "1198/1198 [==============================] - 6s 5ms/step - loss: 9.3522e-04\n",
            "Epoch 67/100\n",
            "1198/1198 [==============================] - 6s 5ms/step - loss: 9.9807e-04\n",
            "Epoch 68/100\n",
            "1198/1198 [==============================] - 6s 5ms/step - loss: 0.0011\n",
            "Epoch 69/100\n",
            "1198/1198 [==============================] - 6s 5ms/step - loss: 9.6397e-04\n",
            "Epoch 70/100\n",
            "1198/1198 [==============================] - 6s 5ms/step - loss: 9.3242e-04\n",
            "Epoch 71/100\n",
            "1198/1198 [==============================] - 6s 5ms/step - loss: 8.8423e-04\n",
            "Epoch 72/100\n",
            "1198/1198 [==============================] - 6s 5ms/step - loss: 8.2618e-04\n",
            "Epoch 73/100\n",
            "1198/1198 [==============================] - 6s 5ms/step - loss: 8.5079e-04\n",
            "Epoch 74/100\n",
            "1198/1198 [==============================] - 6s 5ms/step - loss: 8.3307e-04\n",
            "Epoch 75/100\n",
            "1198/1198 [==============================] - 6s 5ms/step - loss: 7.6315e-04\n",
            "Epoch 76/100\n",
            "1198/1198 [==============================] - 6s 5ms/step - loss: 8.7823e-04\n",
            "Epoch 77/100\n",
            "1198/1198 [==============================] - 6s 5ms/step - loss: 9.8278e-04\n",
            "Epoch 78/100\n",
            "1198/1198 [==============================] - 6s 5ms/step - loss: 8.8456e-04\n",
            "Epoch 79/100\n",
            "1198/1198 [==============================] - 6s 5ms/step - loss: 8.7347e-04\n",
            "Epoch 80/100\n",
            "1198/1198 [==============================] - 6s 5ms/step - loss: 9.3473e-04\n",
            "Epoch 81/100\n",
            "1198/1198 [==============================] - 6s 5ms/step - loss: 9.0862e-04\n",
            "Epoch 82/100\n",
            "1198/1198 [==============================] - 6s 5ms/step - loss: 0.0011\n",
            "Epoch 83/100\n",
            "1198/1198 [==============================] - 6s 5ms/step - loss: 9.6102e-04\n",
            "Epoch 84/100\n",
            "1198/1198 [==============================] - 6s 5ms/step - loss: 0.0010\n",
            "Epoch 85/100\n",
            "1198/1198 [==============================] - 6s 5ms/step - loss: 0.0010\n",
            "Epoch 86/100\n",
            "1198/1198 [==============================] - 6s 5ms/step - loss: 9.9310e-04\n",
            "Epoch 87/100\n",
            "1198/1198 [==============================] - 6s 5ms/step - loss: 8.5480e-04\n",
            "Epoch 88/100\n",
            "1198/1198 [==============================] - 6s 5ms/step - loss: 8.9298e-04\n",
            "Epoch 89/100\n",
            "1198/1198 [==============================] - 6s 5ms/step - loss: 0.0010\n",
            "Epoch 90/100\n",
            "1198/1198 [==============================] - 6s 5ms/step - loss: 0.0011\n",
            "Epoch 91/100\n",
            "1198/1198 [==============================] - 6s 5ms/step - loss: 8.9170e-04\n",
            "Epoch 92/100\n",
            "1198/1198 [==============================] - 6s 5ms/step - loss: 9.1109e-04\n",
            "Epoch 93/100\n",
            "1198/1198 [==============================] - 6s 5ms/step - loss: 9.1250e-04\n",
            "Epoch 94/100\n",
            "1198/1198 [==============================] - 6s 5ms/step - loss: 8.4791e-04\n",
            "Epoch 95/100\n",
            "1198/1198 [==============================] - 6s 5ms/step - loss: 9.2837e-04\n",
            "Epoch 96/100\n",
            "1198/1198 [==============================] - 6s 5ms/step - loss: 8.2716e-04\n",
            "Epoch 97/100\n",
            "1198/1198 [==============================] - 6s 5ms/step - loss: 8.3951e-04\n",
            "Epoch 98/100\n",
            "1198/1198 [==============================] - 6s 5ms/step - loss: 9.2729e-04\n",
            "Epoch 99/100\n",
            "1198/1198 [==============================] - 6s 5ms/step - loss: 8.7509e-04\n",
            "Epoch 100/100\n",
            "1198/1198 [==============================] - 6s 5ms/step - loss: 9.1348e-04\n"
          ],
          "name": "stdout"
        },
        {
          "output_type": "execute_result",
          "data": {
            "text/plain": [
              "<keras.callbacks.History at 0x7f2afc465b00>"
            ]
          },
          "metadata": {
            "tags": []
          },
          "execution_count": 33
        }
      ]
    },
    {
      "cell_type": "code",
      "metadata": {
        "id": "DPV4Y49hnOPM",
        "colab_type": "code",
        "colab": {}
      },
      "source": [
        "dataset_test = pd.read_csv('Google_Stock_Price_Test.csv')\n",
        "real_stock_price = dataset_test.iloc[:, 1:2].values"
      ],
      "execution_count": 0,
      "outputs": []
    },
    {
      "cell_type": "code",
      "metadata": {
        "id": "9b1SKRZ9qPTE",
        "colab_type": "code",
        "colab": {}
      },
      "source": [
        "dataset_total = pd.concat((dataset_train['Open'], dataset_test['Open']), axis = 0)\n",
        "inputs = dataset_total[len(dataset_total) - len(dataset_test) - 60:].values\n",
        "inputs = inputs.reshape(-1,1)\n",
        "inputs = sc.transform(inputs)\n",
        "X_test = []\n",
        "for i in range(60, 80):\n",
        "    X_test.append(inputs[i-60:i, 0])\n",
        "X_test = np.array(X_test)\n",
        "X_test = np.reshape(X_test, (X_test.shape[0], X_test.shape[1], 1))\n",
        "predicted_stock_price = regressor.predict(X_test)\n",
        "predicted_stock_price = sc.inverse_transform(predicted_stock_price)"
      ],
      "execution_count": 0,
      "outputs": []
    },
    {
      "cell_type": "code",
      "metadata": {
        "id": "RP0UMYqTqSE6",
        "colab_type": "code",
        "outputId": "7621ee62-a442-4b6c-c993-af957ceea255",
        "colab": {
          "base_uri": "https://localhost:8080/",
          "height": 294
        }
      },
      "source": [
        "plt.plot(real_stock_price, color = 'red', label = 'Real Google Stock Price')\n",
        "plt.plot(predicted_stock_price, color = 'blue', label = 'Predicted Google Stock Price')\n",
        "plt.title('Google Stock Price Prediction')\n",
        "plt.xlabel('Time')\n",
        "plt.ylabel('Google Stock Price')\n",
        "plt.legend()\n",
        "plt.show()"
      ],
      "execution_count": 0,
      "outputs": [
        {
          "output_type": "display_data",
          "data": {
            "image/png": "[encoded data removed]",
            "text/plain": [
              "<Figure size 432x288 with 1 Axes>"
            ]
          },
          "metadata": {
            "tags": []
          }
        }
      ]
    },
    {
      "cell_type": "markdown",
      "metadata": {
        "id": "sfjRKq9p11ur",
        "colab_type": "text"
      },
      "source": [
        "Model 2: Optimizer = sgd dan batch_size = 32"
      ]
    },
    {
      "cell_type": "code",
      "metadata": {
        "id": "asSwiyaz19C6",
        "colab_type": "code",
        "colab": {}
      },
      "source": [
        "regressor.compile(optimizer = 'sgd', loss = 'mean_squared_error')"
      ],
      "execution_count": 0,
      "outputs": []
    },
    {
      "cell_type": "code",
      "metadata": {
        "id": "FkyS-jwo2BWh",
        "colab_type": "code",
        "outputId": "a6e780f8-9d4e-4b06-932d-d403247e3afd",
        "colab": {
          "base_uri": "https://localhost:8080/",
          "height": 1000
        }
      },
      "source": [
        "regressor.fit(X_train, y_train, epochs = 100, batch_size = 16)"
      ],
      "execution_count": 0,
      "outputs": [
        {
          "output_type": "stream",
          "text": [
            "Epoch 1/100\n",
            "1198/1198 [==============================] - 13s 11ms/step - loss: 8.2640e-04\n",
            "Epoch 2/100\n",
            "1198/1198 [==============================] - 11s 9ms/step - loss: 8.6339e-04\n",
            "Epoch 3/100\n",
            "1198/1198 [==============================] - 11s 9ms/step - loss: 8.2798e-04\n",
            "Epoch 4/100\n",
            "1198/1198 [==============================] - 11s 9ms/step - loss: 8.0682e-04\n",
            "Epoch 5/100\n",
            "1198/1198 [==============================] - 11s 9ms/step - loss: 8.6782e-04\n",
            "Epoch 6/100\n",
            "1198/1198 [==============================] - 11s 9ms/step - loss: 8.3691e-04\n",
            "Epoch 7/100\n",
            "1198/1198 [==============================] - 11s 9ms/step - loss: 8.3787e-04\n",
            "Epoch 8/100\n",
            "1198/1198 [==============================] - 11s 9ms/step - loss: 8.1666e-04\n",
            "Epoch 9/100\n",
            "1198/1198 [==============================] - 11s 9ms/step - loss: 7.7314e-04\n",
            "Epoch 10/100\n",
            "1198/1198 [==============================] - 11s 9ms/step - loss: 8.1882e-04\n",
            "Epoch 11/100\n",
            "1198/1198 [==============================] - 11s 9ms/step - loss: 8.9822e-04\n",
            "Epoch 12/100\n",
            "1198/1198 [==============================] - 11s 9ms/step - loss: 8.2972e-04\n",
            "Epoch 13/100\n",
            "1198/1198 [==============================] - 11s 9ms/step - loss: 8.7217e-04\n",
            "Epoch 14/100\n",
            "1198/1198 [==============================] - 11s 9ms/step - loss: 7.9512e-04\n",
            "Epoch 15/100\n",
            "1198/1198 [==============================] - 11s 9ms/step - loss: 8.1251e-04\n",
            "Epoch 16/100\n",
            "1198/1198 [==============================] - 11s 9ms/step - loss: 8.7056e-04\n",
            "Epoch 17/100\n",
            "1198/1198 [==============================] - 11s 9ms/step - loss: 8.0662e-04\n",
            "Epoch 18/100\n",
            "1198/1198 [==============================] - 11s 9ms/step - loss: 8.5539e-04\n",
            "Epoch 19/100\n",
            "1198/1198 [==============================] - 11s 9ms/step - loss: 8.1139e-04\n",
            "Epoch 20/100\n",
            "1198/1198 [==============================] - 11s 9ms/step - loss: 8.9004e-04\n",
            "Epoch 21/100\n",
            "1198/1198 [==============================] - 11s 9ms/step - loss: 7.8846e-04\n",
            "Epoch 22/100\n",
            "1198/1198 [==============================] - 11s 9ms/step - loss: 8.2230e-04\n",
            "Epoch 23/100\n",
            "1198/1198 [==============================] - 11s 9ms/step - loss: 7.8607e-04\n",
            "Epoch 24/100\n",
            "1198/1198 [==============================] - 11s 9ms/step - loss: 8.3647e-04\n",
            "Epoch 25/100\n",
            "1198/1198 [==============================] - 11s 9ms/step - loss: 8.4430e-04\n",
            "Epoch 26/100\n",
            "1198/1198 [==============================] - 11s 9ms/step - loss: 8.2981e-04\n",
            "Epoch 27/100\n",
            "1198/1198 [==============================] - 11s 9ms/step - loss: 8.4555e-04\n",
            "Epoch 28/100\n",
            "1198/1198 [==============================] - 11s 9ms/step - loss: 7.8957e-04\n",
            "Epoch 29/100\n",
            "1198/1198 [==============================] - 11s 9ms/step - loss: 8.3503e-04\n",
            "Epoch 30/100\n",
            "1198/1198 [==============================] - 11s 9ms/step - loss: 8.3227e-04\n",
            "Epoch 31/100\n",
            "1198/1198 [==============================] - 11s 9ms/step - loss: 7.9347e-04\n",
            "Epoch 32/100\n",
            "1198/1198 [==============================] - 11s 9ms/step - loss: 8.6139e-04\n",
            "Epoch 33/100\n",
            "1198/1198 [==============================] - 11s 9ms/step - loss: 7.3844e-04\n",
            "Epoch 34/100\n",
            "1198/1198 [==============================] - 11s 9ms/step - loss: 7.8499e-04\n",
            "Epoch 35/100\n",
            "1198/1198 [==============================] - 11s 9ms/step - loss: 8.3121e-04\n",
            "Epoch 36/100\n",
            "1198/1198 [==============================] - 11s 9ms/step - loss: 8.1087e-04\n",
            "Epoch 37/100\n",
            "1198/1198 [==============================] - 11s 9ms/step - loss: 8.3702e-04\n",
            "Epoch 38/100\n",
            "1198/1198 [==============================] - 11s 9ms/step - loss: 7.9240e-04\n",
            "Epoch 39/100\n",
            "1198/1198 [==============================] - 11s 9ms/step - loss: 8.2997e-04\n",
            "Epoch 40/100\n",
            "1198/1198 [==============================] - 11s 9ms/step - loss: 7.9816e-04\n",
            "Epoch 41/100\n",
            "1198/1198 [==============================] - 11s 9ms/step - loss: 7.9213e-04\n",
            "Epoch 42/100\n",
            "1198/1198 [==============================] - 11s 9ms/step - loss: 8.1869e-04\n",
            "Epoch 43/100\n",
            "1198/1198 [==============================] - 11s 9ms/step - loss: 7.6588e-04\n",
            "Epoch 44/100\n",
            "1198/1198 [==============================] - 11s 9ms/step - loss: 7.4131e-04\n",
            "Epoch 45/100\n",
            "1198/1198 [==============================] - 11s 9ms/step - loss: 8.6497e-04\n",
            "Epoch 46/100\n",
            "1198/1198 [==============================] - 11s 9ms/step - loss: 8.1298e-04\n",
            "Epoch 47/100\n",
            "1198/1198 [==============================] - 11s 9ms/step - loss: 8.6621e-04\n",
            "Epoch 48/100\n",
            "1198/1198 [==============================] - 11s 9ms/step - loss: 7.4818e-04\n",
            "Epoch 49/100\n",
            "1198/1198 [==============================] - 11s 9ms/step - loss: 8.7156e-04\n",
            "Epoch 50/100\n",
            "1198/1198 [==============================] - 11s 9ms/step - loss: 7.8729e-04\n",
            "Epoch 51/100\n",
            "1198/1198 [==============================] - 11s 9ms/step - loss: 8.8203e-04\n",
            "Epoch 52/100\n",
            "1198/1198 [==============================] - 11s 9ms/step - loss: 8.7151e-04\n",
            "Epoch 53/100\n",
            "1198/1198 [==============================] - 11s 9ms/step - loss: 7.8681e-04\n",
            "Epoch 54/100\n",
            "1198/1198 [==============================] - 11s 9ms/step - loss: 8.3920e-04\n",
            "Epoch 55/100\n",
            "1198/1198 [==============================] - 11s 9ms/step - loss: 8.4549e-04\n",
            "Epoch 56/100\n",
            "1198/1198 [==============================] - 11s 9ms/step - loss: 7.7651e-04\n",
            "Epoch 57/100\n",
            "1198/1198 [==============================] - 11s 9ms/step - loss: 8.1445e-04\n",
            "Epoch 58/100\n",
            "1198/1198 [==============================] - 11s 9ms/step - loss: 8.0202e-04\n",
            "Epoch 59/100\n",
            "1198/1198 [==============================] - 11s 9ms/step - loss: 8.3241e-04\n",
            "Epoch 60/100\n",
            "1198/1198 [==============================] - 11s 9ms/step - loss: 7.5902e-04\n",
            "Epoch 61/100\n",
            "1198/1198 [==============================] - 11s 9ms/step - loss: 8.2103e-04\n",
            "Epoch 62/100\n",
            "1198/1198 [==============================] - 11s 9ms/step - loss: 8.2612e-04\n",
            "Epoch 63/100\n",
            "1198/1198 [==============================] - 11s 9ms/step - loss: 7.5194e-04\n",
            "Epoch 64/100\n",
            "1198/1198 [==============================] - 11s 9ms/step - loss: 8.0600e-04\n",
            "Epoch 65/100\n",
            "1198/1198 [==============================] - 11s 9ms/step - loss: 8.2601e-04\n",
            "Epoch 66/100\n",
            "1198/1198 [==============================] - 11s 9ms/step - loss: 7.8066e-04\n",
            "Epoch 67/100\n",
            "1198/1198 [==============================] - 11s 9ms/step - loss: 8.6798e-04\n",
            "Epoch 68/100\n",
            "1198/1198 [==============================] - 11s 9ms/step - loss: 7.7730e-04\n",
            "Epoch 69/100\n",
            "1198/1198 [==============================] - 11s 9ms/step - loss: 7.9372e-04\n",
            "Epoch 70/100\n",
            "1198/1198 [==============================] - 11s 9ms/step - loss: 7.9127e-04\n",
            "Epoch 71/100\n",
            "1198/1198 [==============================] - 11s 9ms/step - loss: 8.0536e-04\n",
            "Epoch 72/100\n",
            "1198/1198 [==============================] - 11s 9ms/step - loss: 7.8582e-04\n",
            "Epoch 73/100\n",
            "1198/1198 [==============================] - 11s 9ms/step - loss: 7.9402e-04\n",
            "Epoch 74/100\n",
            "1198/1198 [==============================] - 11s 9ms/step - loss: 8.0954e-04\n",
            "Epoch 75/100\n",
            "1198/1198 [==============================] - 11s 9ms/step - loss: 6.8851e-04\n",
            "Epoch 76/100\n",
            "1198/1198 [==============================] - 11s 9ms/step - loss: 7.8659e-04\n",
            "Epoch 77/100\n",
            "1198/1198 [==============================] - 11s 9ms/step - loss: 7.7177e-04\n",
            "Epoch 78/100\n",
            "1198/1198 [==============================] - 11s 9ms/step - loss: 7.4361e-04\n",
            "Epoch 79/100\n",
            "1198/1198 [==============================] - 11s 9ms/step - loss: 7.7880e-04\n",
            "Epoch 80/100\n",
            "1198/1198 [==============================] - 11s 9ms/step - loss: 8.0218e-04\n",
            "Epoch 81/100\n",
            "1198/1198 [==============================] - 11s 9ms/step - loss: 7.9745e-04\n",
            "Epoch 82/100\n",
            "1198/1198 [==============================] - 11s 9ms/step - loss: 8.1417e-04\n",
            "Epoch 83/100\n",
            "1198/1198 [==============================] - 11s 9ms/step - loss: 7.7851e-04\n",
            "Epoch 84/100\n",
            "1198/1198 [==============================] - 11s 9ms/step - loss: 7.7987e-04\n",
            "Epoch 85/100\n",
            "1198/1198 [==============================] - 11s 9ms/step - loss: 7.9770e-04\n",
            "Epoch 86/100\n",
            "1198/1198 [==============================] - 11s 9ms/step - loss: 7.9570e-04\n",
            "Epoch 87/100\n",
            "1198/1198 [==============================] - 11s 9ms/step - loss: 7.5833e-04\n",
            "Epoch 88/100\n",
            "1198/1198 [==============================] - 11s 9ms/step - loss: 7.8398e-04\n",
            "Epoch 89/100\n",
            "1198/1198 [==============================] - 11s 9ms/step - loss: 8.5023e-04\n",
            "Epoch 90/100\n",
            "1198/1198 [==============================] - 11s 9ms/step - loss: 7.6947e-04\n",
            "Epoch 91/100\n",
            "1198/1198 [==============================] - 11s 9ms/step - loss: 6.8055e-04\n",
            "Epoch 92/100\n",
            "1198/1198 [==============================] - 11s 9ms/step - loss: 7.8657e-04\n",
            "Epoch 93/100\n",
            "1198/1198 [==============================] - 11s 9ms/step - loss: 7.6611e-04\n",
            "Epoch 94/100\n",
            "1198/1198 [==============================] - 11s 9ms/step - loss: 8.1972e-04\n",
            "Epoch 95/100\n",
            "1198/1198 [==============================] - 11s 9ms/step - loss: 7.7604e-04\n",
            "Epoch 96/100\n",
            "1198/1198 [==============================] - 11s 9ms/step - loss: 7.5509e-04\n",
            "Epoch 97/100\n",
            "1198/1198 [==============================] - 11s 9ms/step - loss: 8.5900e-04\n",
            "Epoch 98/100\n",
            "1198/1198 [==============================] - 11s 9ms/step - loss: 7.7727e-04\n",
            "Epoch 99/100\n",
            "1198/1198 [==============================] - 11s 9ms/step - loss: 8.3949e-04\n",
            "Epoch 100/100\n",
            "1198/1198 [==============================] - 11s 9ms/step - loss: 7.3764e-04\n"
          ],
          "name": "stdout"
        },
        {
          "output_type": "execute_result",
          "data": {
            "text/plain": [
              "<keras.callbacks.History at 0x7f2af4910390>"
            ]
          },
          "metadata": {
            "tags": []
          },
          "execution_count": 35
        }
      ]
    },
    {
      "cell_type": "code",
      "metadata": {
        "id": "I_fnzo7U22kR",
        "colab_type": "code",
        "colab": {}
      },
      "source": [
        "dataset_test = pd.read_csv('Google_Stock_Price_Test.csv')\n",
        "real_stock_price = dataset_test.iloc[:, 1:2].values\n",
        "\n",
        "dataset_total = pd.concat((dataset_train['Open'], dataset_test['Open']), axis = 0)\n",
        "inputs = dataset_total[len(dataset_total) - len(dataset_test) - 60:].values\n",
        "inputs = inputs.reshape(-1,1)\n",
        "inputs = sc.transform(inputs)\n",
        "X_test = []\n",
        "for i in range(60, 80):\n",
        "    X_test.append(inputs[i-60:i, 0])\n",
        "X_test = np.array(X_test)\n",
        "X_test = np.reshape(X_test, (X_test.shape[0], X_test.shape[1], 1))\n",
        "predicted_stock_price = regressor.predict(X_test)\n",
        "predicted_stock_price = sc.inverse_transform(predicted_stock_price)\n",
        "\n",
        "plt.plot(real_stock_price, color = 'red', label = 'Real Google Stock Price')\n",
        "plt.plot(predicted_stock_price, color = 'blue', label = 'Predicted Google Stock Price')\n",
        "plt.title('Google Stock Price Prediction')\n",
        "plt.xlabel('Time')\n",
        "plt.ylabel('Google Stock Price')\n",
        "plt.legend()\n",
        "plt.show()"
      ],
      "execution_count": 0,
      "outputs": []
    },
    {
      "cell_type": "markdown",
      "metadata": {
        "id": "9DiKs0s72CBR",
        "colab_type": "text"
      },
      "source": [
        "Model 3:  oprimizer = adam dan batch_size = 16"
      ]
    },
    {
      "cell_type": "code",
      "metadata": {
        "id": "IASPM6WTnH-m",
        "colab_type": "code",
        "outputId": "639be6aa-cd84-4bcc-bc37-7b8348d5d101",
        "colab": {
          "base_uri": "https://localhost:8080/",
          "height": 52
        }
      },
      "source": [
        "regressor.compile(optimizer = 'adam', loss = 'mean_squared_error')"
      ],
      "execution_count": 0,
      "outputs": [
        {
          "output_type": "stream",
          "text": [
            "WARNING:tensorflow:From /usr/local/lib/python3.6/dist-packages/keras/optimizers.py:793: The name tf.train.Optimizer is deprecated. Please use tf.compat.v1.train.Optimizer instead.\n",
            "\n"
          ],
          "name": "stdout"
        }
      ]
    },
    {
      "cell_type": "code",
      "metadata": {
        "id": "QrO5ljkKnK0d",
        "colab_type": "code",
        "outputId": "14ec940d-81b9-4fe6-9aba-226df21eb320",
        "colab": {
          "base_uri": "https://localhost:8080/",
          "height": 1000
        }
      },
      "source": [
        "regressor.fit(X_train, y_train, epochs = 100, batch_size = 16)"
      ],
      "execution_count": 0,
      "outputs": [
        {
          "output_type": "stream",
          "text": [
            "WARNING:tensorflow:From /usr/local/lib/python3.6/dist-packages/tensorflow_core/python/ops/math_grad.py:1424: where (from tensorflow.python.ops.array_ops) is deprecated and will be removed in a future version.\n",
            "Instructions for updating:\n",
            "Use tf.where in 2.0, which has the same broadcast rule as np.where\n",
            "WARNING:tensorflow:From /usr/local/lib/python3.6/dist-packages/keras/backend/tensorflow_backend.py:1033: The name tf.assign_add is deprecated. Please use tf.compat.v1.assign_add instead.\n",
            "\n",
            "WARNING:tensorflow:From /usr/local/lib/python3.6/dist-packages/keras/backend/tensorflow_backend.py:1020: The name tf.assign is deprecated. Please use tf.compat.v1.assign instead.\n",
            "\n",
            "WARNING:tensorflow:From /usr/local/lib/python3.6/dist-packages/keras/backend/tensorflow_backend.py:3005: The name tf.Session is deprecated. Please use tf.compat.v1.Session instead.\n",
            "\n",
            "Epoch 1/100\n",
            "WARNING:tensorflow:From /usr/local/lib/python3.6/dist-packages/keras/backend/tensorflow_backend.py:190: The name tf.get_default_session is deprecated. Please use tf.compat.v1.get_default_session instead.\n",
            "\n",
            "WARNING:tensorflow:From /usr/local/lib/python3.6/dist-packages/keras/backend/tensorflow_backend.py:197: The name tf.ConfigProto is deprecated. Please use tf.compat.v1.ConfigProto instead.\n",
            "\n",
            "WARNING:tensorflow:From /usr/local/lib/python3.6/dist-packages/keras/backend/tensorflow_backend.py:207: The name tf.global_variables is deprecated. Please use tf.compat.v1.global_variables instead.\n",
            "\n",
            "WARNING:tensorflow:From /usr/local/lib/python3.6/dist-packages/keras/backend/tensorflow_backend.py:216: The name tf.is_variable_initialized is deprecated. Please use tf.compat.v1.is_variable_initialized instead.\n",
            "\n",
            "WARNING:tensorflow:From /usr/local/lib/python3.6/dist-packages/keras/backend/tensorflow_backend.py:223: The name tf.variables_initializer is deprecated. Please use tf.compat.v1.variables_initializer instead.\n",
            "\n",
            "1198/1198 [==============================] - 13s 11ms/step - loss: 0.0264\n",
            "Epoch 2/100\n",
            "1198/1198 [==============================] - 11s 9ms/step - loss: 0.0047\n",
            "Epoch 3/100\n",
            "1198/1198 [==============================] - 11s 9ms/step - loss: 0.0045\n",
            "Epoch 4/100\n",
            "1198/1198 [==============================] - 11s 9ms/step - loss: 0.0047\n",
            "Epoch 5/100\n",
            "1198/1198 [==============================] - 11s 9ms/step - loss: 0.0042\n",
            "Epoch 6/100\n",
            "1198/1198 [==============================] - 11s 9ms/step - loss: 0.0040\n",
            "Epoch 7/100\n",
            "1198/1198 [==============================] - 11s 9ms/step - loss: 0.0038\n",
            "Epoch 8/100\n",
            "1198/1198 [==============================] - 11s 9ms/step - loss: 0.0040\n",
            "Epoch 9/100\n",
            "1198/1198 [==============================] - 11s 9ms/step - loss: 0.0039\n",
            "Epoch 10/100\n",
            "1198/1198 [==============================] - 11s 9ms/step - loss: 0.0031\n",
            "Epoch 11/100\n",
            "1198/1198 [==============================] - 11s 9ms/step - loss: 0.0038\n",
            "Epoch 12/100\n",
            "1198/1198 [==============================] - 11s 9ms/step - loss: 0.0035\n",
            "Epoch 13/100\n",
            "1198/1198 [==============================] - 11s 9ms/step - loss: 0.0030\n",
            "Epoch 14/100\n",
            "1198/1198 [==============================] - 11s 9ms/step - loss: 0.0030\n",
            "Epoch 15/100\n",
            "1198/1198 [==============================] - 11s 9ms/step - loss: 0.0031\n",
            "Epoch 16/100\n",
            "1198/1198 [==============================] - 11s 9ms/step - loss: 0.0029\n",
            "Epoch 17/100\n",
            "1198/1198 [==============================] - 11s 9ms/step - loss: 0.0030\n",
            "Epoch 18/100\n",
            "1198/1198 [==============================] - 11s 9ms/step - loss: 0.0026\n",
            "Epoch 19/100\n",
            "1198/1198 [==============================] - 11s 9ms/step - loss: 0.0026\n",
            "Epoch 20/100\n",
            "1198/1198 [==============================] - 11s 9ms/step - loss: 0.0027\n",
            "Epoch 21/100\n",
            "1198/1198 [==============================] - 11s 9ms/step - loss: 0.0028\n",
            "Epoch 22/100\n",
            "1198/1198 [==============================] - 11s 9ms/step - loss: 0.0028\n",
            "Epoch 23/100\n",
            "1198/1198 [==============================] - 11s 9ms/step - loss: 0.0025\n",
            "Epoch 24/100\n",
            "1198/1198 [==============================] - 11s 9ms/step - loss: 0.0024\n",
            "Epoch 25/100\n",
            "1198/1198 [==============================] - 11s 9ms/step - loss: 0.0022\n",
            "Epoch 26/100\n",
            "1198/1198 [==============================] - 11s 9ms/step - loss: 0.0022\n",
            "Epoch 27/100\n",
            "1198/1198 [==============================] - 11s 9ms/step - loss: 0.0023\n",
            "Epoch 28/100\n",
            "1198/1198 [==============================] - 11s 9ms/step - loss: 0.0022\n",
            "Epoch 29/100\n",
            "1198/1198 [==============================] - 11s 9ms/step - loss: 0.0022\n",
            "Epoch 30/100\n",
            "1198/1198 [==============================] - 11s 9ms/step - loss: 0.0020\n",
            "Epoch 31/100\n",
            "1198/1198 [==============================] - 11s 9ms/step - loss: 0.0020\n",
            "Epoch 32/100\n",
            "1198/1198 [==============================] - 11s 9ms/step - loss: 0.0020\n",
            "Epoch 33/100\n",
            "1198/1198 [==============================] - 11s 9ms/step - loss: 0.0020\n",
            "Epoch 34/100\n",
            "1198/1198 [==============================] - 11s 9ms/step - loss: 0.0021\n",
            "Epoch 35/100\n",
            "1198/1198 [==============================] - 11s 9ms/step - loss: 0.0022\n",
            "Epoch 36/100\n",
            "1198/1198 [==============================] - 11s 9ms/step - loss: 0.0017\n",
            "Epoch 37/100\n",
            "1198/1198 [==============================] - 11s 9ms/step - loss: 0.0019\n",
            "Epoch 38/100\n",
            "1198/1198 [==============================] - 11s 9ms/step - loss: 0.0019\n",
            "Epoch 39/100\n",
            "1198/1198 [==============================] - 11s 9ms/step - loss: 0.0019\n",
            "Epoch 40/100\n",
            "1198/1198 [==============================] - 11s 9ms/step - loss: 0.0022\n",
            "Epoch 41/100\n",
            "1198/1198 [==============================] - 11s 9ms/step - loss: 0.0019\n",
            "Epoch 42/100\n",
            "1198/1198 [==============================] - 11s 9ms/step - loss: 0.0017\n",
            "Epoch 43/100\n",
            "1198/1198 [==============================] - 11s 9ms/step - loss: 0.0018\n",
            "Epoch 44/100\n",
            "1198/1198 [==============================] - 11s 9ms/step - loss: 0.0020\n",
            "Epoch 45/100\n",
            "1198/1198 [==============================] - 11s 9ms/step - loss: 0.0018\n",
            "Epoch 46/100\n",
            "1198/1198 [==============================] - 11s 9ms/step - loss: 0.0017\n",
            "Epoch 47/100\n",
            "1198/1198 [==============================] - 11s 9ms/step - loss: 0.0015\n",
            "Epoch 48/100\n",
            "1198/1198 [==============================] - 11s 9ms/step - loss: 0.0016\n",
            "Epoch 49/100\n",
            "1198/1198 [==============================] - 11s 9ms/step - loss: 0.0017\n",
            "Epoch 50/100\n",
            "1198/1198 [==============================] - 11s 9ms/step - loss: 0.0015\n",
            "Epoch 51/100\n",
            "1198/1198 [==============================] - 11s 9ms/step - loss: 0.0016\n",
            "Epoch 52/100\n",
            "1198/1198 [==============================] - 11s 9ms/step - loss: 0.0018\n",
            "Epoch 53/100\n",
            "1198/1198 [==============================] - 11s 9ms/step - loss: 0.0015\n",
            "Epoch 54/100\n",
            "1198/1198 [==============================] - 11s 9ms/step - loss: 0.0014\n",
            "Epoch 55/100\n",
            "1198/1198 [==============================] - 11s 9ms/step - loss: 0.0014\n",
            "Epoch 56/100\n",
            "1198/1198 [==============================] - 11s 9ms/step - loss: 0.0015\n",
            "Epoch 57/100\n",
            "1198/1198 [==============================] - 11s 9ms/step - loss: 0.0015\n",
            "Epoch 58/100\n",
            "1198/1198 [==============================] - 11s 9ms/step - loss: 0.0013\n",
            "Epoch 59/100\n",
            "1198/1198 [==============================] - 11s 9ms/step - loss: 0.0013\n",
            "Epoch 60/100\n",
            "1198/1198 [==============================] - 11s 9ms/step - loss: 0.0014\n",
            "Epoch 61/100\n",
            "1198/1198 [==============================] - 11s 9ms/step - loss: 0.0013\n",
            "Epoch 62/100\n",
            "1198/1198 [==============================] - 11s 9ms/step - loss: 0.0014\n",
            "Epoch 63/100\n",
            "1198/1198 [==============================] - 11s 9ms/step - loss: 0.0014\n",
            "Epoch 64/100\n",
            "1198/1198 [==============================] - 11s 9ms/step - loss: 0.0013\n",
            "Epoch 65/100\n",
            "1198/1198 [==============================] - 11s 9ms/step - loss: 0.0013\n",
            "Epoch 66/100\n",
            "1198/1198 [==============================] - 11s 9ms/step - loss: 0.0012\n",
            "Epoch 67/100\n",
            "1198/1198 [==============================] - 11s 9ms/step - loss: 0.0015\n",
            "Epoch 68/100\n",
            "1198/1198 [==============================] - 11s 9ms/step - loss: 0.0013\n",
            "Epoch 69/100\n",
            "1198/1198 [==============================] - 11s 9ms/step - loss: 0.0013\n",
            "Epoch 70/100\n",
            "1198/1198 [==============================] - 11s 9ms/step - loss: 0.0012\n",
            "Epoch 71/100\n",
            "1198/1198 [==============================] - 11s 9ms/step - loss: 0.0013\n",
            "Epoch 72/100\n",
            "1198/1198 [==============================] - 11s 9ms/step - loss: 0.0013\n",
            "Epoch 73/100\n",
            "1198/1198 [==============================] - 11s 9ms/step - loss: 0.0015\n",
            "Epoch 74/100\n",
            "1198/1198 [==============================] - 11s 9ms/step - loss: 0.0012\n",
            "Epoch 75/100\n",
            "1198/1198 [==============================] - 11s 9ms/step - loss: 0.0012\n",
            "Epoch 76/100\n",
            "1198/1198 [==============================] - 11s 9ms/step - loss: 0.0011\n",
            "Epoch 77/100\n",
            "1198/1198 [==============================] - 11s 9ms/step - loss: 0.0012\n",
            "Epoch 78/100\n",
            "1198/1198 [==============================] - 11s 9ms/step - loss: 0.0011\n",
            "Epoch 79/100\n",
            "1198/1198 [==============================] - 11s 9ms/step - loss: 0.0011\n",
            "Epoch 80/100\n",
            "1198/1198 [==============================] - 11s 9ms/step - loss: 0.0012\n",
            "Epoch 81/100\n",
            "1198/1198 [==============================] - 11s 9ms/step - loss: 0.0012\n",
            "Epoch 82/100\n",
            "1198/1198 [==============================] - 11s 9ms/step - loss: 0.0011\n",
            "Epoch 83/100\n",
            "1198/1198 [==============================] - 11s 9ms/step - loss: 0.0011\n",
            "Epoch 84/100\n",
            "1198/1198 [==============================] - 11s 9ms/step - loss: 0.0012\n",
            "Epoch 85/100\n",
            "1198/1198 [==============================] - 11s 9ms/step - loss: 0.0012\n",
            "Epoch 86/100\n",
            "1198/1198 [==============================] - 11s 9ms/step - loss: 0.0013\n",
            "Epoch 87/100\n",
            "1198/1198 [==============================] - 11s 9ms/step - loss: 0.0012\n",
            "Epoch 88/100\n",
            "1198/1198 [==============================] - 11s 9ms/step - loss: 0.0012\n",
            "Epoch 89/100\n",
            "1198/1198 [==============================] - 11s 9ms/step - loss: 0.0011\n",
            "Epoch 90/100\n",
            "1198/1198 [==============================] - 11s 9ms/step - loss: 0.0012\n",
            "Epoch 91/100\n",
            "1198/1198 [==============================] - 11s 9ms/step - loss: 0.0011\n",
            "Epoch 92/100\n",
            "1198/1198 [==============================] - 11s 9ms/step - loss: 0.0011\n",
            "Epoch 93/100\n",
            "1198/1198 [==============================] - 11s 9ms/step - loss: 0.0012\n",
            "Epoch 94/100\n",
            "1198/1198 [==============================] - 11s 9ms/step - loss: 0.0012\n",
            "Epoch 95/100\n",
            "1198/1198 [==============================] - 11s 9ms/step - loss: 9.9706e-04\n",
            "Epoch 96/100\n",
            "1198/1198 [==============================] - 11s 9ms/step - loss: 0.0012\n",
            "Epoch 97/100\n",
            "1198/1198 [==============================] - 11s 9ms/step - loss: 0.0012\n",
            "Epoch 98/100\n",
            "1198/1198 [==============================] - 11s 9ms/step - loss: 0.0012\n",
            "Epoch 99/100\n",
            "1198/1198 [==============================] - 11s 9ms/step - loss: 0.0011\n",
            "Epoch 100/100\n",
            "1198/1198 [==============================] - 11s 9ms/step - loss: 0.0010\n"
          ],
          "name": "stdout"
        },
        {
          "output_type": "execute_result",
          "data": {
            "text/plain": [
              "<keras.callbacks.History at 0x7f2afc4652e8>"
            ]
          },
          "metadata": {
            "tags": []
          },
          "execution_count": 28
        }
      ]
    },
    {
      "cell_type": "code",
      "metadata": {
        "id": "3njwMc7kqUTX",
        "colab_type": "code",
        "colab": {}
      },
      "source": [
        "dataset_test = pd.read_csv('Google_Stock_Price_Test.csv')\n",
        "real_stock_price = dataset_test.iloc[:, 1:2].values"
      ],
      "execution_count": 0,
      "outputs": []
    },
    {
      "cell_type": "code",
      "metadata": {
        "id": "c1exyFT1r4Jj",
        "colab_type": "code",
        "colab": {}
      },
      "source": [
        "dataset_total = pd.concat((dataset_train['Open'], dataset_test['Open']), axis = 0)\n",
        "inputs = dataset_total[len(dataset_total) - len(dataset_test) - 60:].values\n",
        "inputs = inputs.reshape(-1,1)\n",
        "inputs = sc.transform(inputs)\n",
        "X_test = []\n",
        "for i in range(60, 80):\n",
        "    X_test.append(inputs[i-60:i, 0])\n",
        "X_test = np.array(X_test)\n",
        "X_test = np.reshape(X_test, (X_test.shape[0], X_test.shape[1], 1))\n",
        "predicted_stock_price = regressor.predict(X_test)\n",
        "predicted_stock_price = sc.inverse_transform(predicted_stock_price)"
      ],
      "execution_count": 0,
      "outputs": []
    },
    {
      "cell_type": "code",
      "metadata": {
        "id": "qnRF8jnIr7wU",
        "colab_type": "code",
        "outputId": "561723cd-97f8-4c1d-bed9-4118c52aa3cd",
        "colab": {
          "base_uri": "https://localhost:8080/",
          "height": 294
        }
      },
      "source": [
        "plt.plot(real_stock_price, color = 'red', label = 'Real Google Stock Price')\n",
        "plt.plot(predicted_stock_price, color = 'blue', label = 'Predicted Google Stock Price')\n",
        "plt.title('Google Stock Price Prediction')\n",
        "plt.xlabel('Time')\n",
        "plt.ylabel('Google Stock Price')\n",
        "plt.legend()\n",
        "plt.show()"
      ],
      "execution_count": 0,
      "outputs": [
        {
          "output_type": "display_data",
          "data": {
            "image/png": "[encoded data removed]",
            "text/plain": [
              "<Figure size 432x288 with 1 Axes>"
            ]
          },
          "metadata": {
            "tags": []
          }
        }
      ]
    },
    {
      "cell_type": "code",
      "metadata": {
        "id": "lt9wrhigr-IZ",
        "colab_type": "code",
        "colab": {}
      },
      "source": [
        ""
      ],
      "execution_count": 0,
      "outputs": []
    }
  ]
}